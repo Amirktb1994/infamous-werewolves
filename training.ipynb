{
 "cells": [
  {
   "cell_type": "code",
   "execution_count": 1,
   "id": "9867747c-201e-4065-aaad-debf1d1db721",
   "metadata": {},
   "outputs": [],
   "source": [
    "import numpy as np\n",
    "import pandas as pd"
   ]
  },
  {
   "cell_type": "code",
   "execution_count": 2,
   "id": "c42d5097-ce92-403c-867d-fbc3154e3b3f",
   "metadata": {},
   "outputs": [],
   "source": [
    "from features import *"
   ]
  },
  {
   "cell_type": "code",
   "execution_count": 3,
   "id": "564b50cb-6945-4c56-9d72-6364c95f0894",
   "metadata": {},
   "outputs": [],
   "source": [
    "from sklearn.ensemble import RandomForestRegressor"
   ]
  },
  {
   "cell_type": "code",
   "execution_count": 8,
   "id": "793c9636-6349-44a5-bbfa-a1a2bc0b26df",
   "metadata": {},
   "outputs": [],
   "source": [
    "df = pd.read_csv('/hkfs/work/workspace/scratch/bh6321-energy_challenge/data/train.csv')"
   ]
  },
  {
   "cell_type": "code",
   "execution_count": 9,
   "id": "73bb0812-131e-4e04-a4c8-f08f6a6e6f71",
   "metadata": {},
   "outputs": [],
   "source": [
    "# df_val = pd.read_csv('/hkfs/work/workspace/scratch/bh6321-energy_challenge/data/valid.csv')\n",
    "# df = pd.concat([df, df_val])"
   ]
  },
  {
   "cell_type": "code",
   "execution_count": 10,
   "id": "c1839bd4-91f1-4d3e-8b7f-11f6cb1b8c57",
   "metadata": {},
   "outputs": [],
   "source": [
    "df = preprocess(df)\n",
    "df = add_time_features(df, drop = True)\n",
    "df_list = add_ts_features(df, return_as_list=True)\n",
    "df_list = [df[df.year != 2015].copy() for df in df_list]"
   ]
  },
  {
   "cell_type": "code",
   "execution_count": 11,
   "id": "3e639c1b-543f-4d33-890d-e9edb534211e",
   "metadata": {},
   "outputs": [],
   "source": [
    "# add target by shifting load by 7*24 hours (separately for each city!)\n",
    "for df in df_list:\n",
    "    #df['target'] = df.groupby('city')['load'].shift(-7*24)\n",
    "    df[\"target\"] = df[\"load\"].shift(-7*24)\n",
    "    df.dropna(inplace = True)"
   ]
  },
  {
   "cell_type": "code",
   "execution_count": 18,
   "id": "1c62585d-b67e-489e-a8ef-9e225f2f746e",
   "metadata": {},
   "outputs": [],
   "source": [
    "sun_features = [\"latitute\", \"longitude\", \"elevation\", \"is_day\", \"is_dusk\", \"is_dawn\", \"sun_position\"]"
   ]
  },
  {
   "cell_type": "code",
   "execution_count": 19,
   "id": "4b557e97-5171-4164-accb-9bb568a4906d",
   "metadata": {},
   "outputs": [
    {
     "data": {
      "text/plain": [
       "Index(['load', 'city', 'hour', 'day_name', 'weekday', 'day', 'month', 'year',\n",
       "       'dayofyear', 'hour_sin', 'hour_cos', 'day_sin', 'day_cos', 'month_sin',\n",
       "       'month_cos', 'dayofyear_sin', 'dayofyear_cos', 'load_sq', 'load_t-1',\n",
       "       'load_t-2', 'load_rmean', 'load_rstd', 'load_rmin', 'load_rmax',\n",
       "       'target'],\n",
       "      dtype='object')"
      ]
     },
     "execution_count": 19,
     "metadata": {},
     "output_type": "execute_result"
    }
   ],
   "source": [
    "df_list[0].columns"
   ]
  },
  {
   "cell_type": "code",
   "execution_count": 22,
   "id": "83a963cf-eb53-4098-a80d-0fcc87377c16",
   "metadata": {},
   "outputs": [],
   "source": [
    "FEATURES = list(df_list[0].columns)\n",
    "FEATURES.remove(\"target\")\n",
    "FEATURES.remove(\"day_name\")\n",
    "FEATURES.remove(\"city\")\n",
    "#FEATURES.remove(\"time\")\n",
    "#for f in sun_features:\n",
    "#    print(f)\n",
    "#    FEATURES.remove(f)"
   ]
  },
  {
   "cell_type": "markdown",
   "id": "ab2a57c9-8313-4f9a-b0e5-56eba18c96e5",
   "metadata": {
    "tags": []
   },
   "source": [
    "## Random Forest"
   ]
  },
  {
   "cell_type": "code",
   "execution_count": 25,
   "id": "88c0751f-ac7a-4a47-8d84-418a6720fc81",
   "metadata": {
    "scrolled": true,
    "tags": []
   },
   "outputs": [
    {
     "name": "stdout",
     "output_type": "stream",
     "text": [
      "City:  bs\n",
      "City:  h\n",
      "City:  hm\n",
      "City:  ol\n",
      "City:  del\n",
      "City:  el\n",
      "City:  os\n",
      "City:  wob\n",
      "City:  hi\n",
      "City:  whv\n",
      "City:  lg\n",
      "City:  ce\n",
      "City:  go\n",
      "City:  sz\n",
      "DONE\n"
     ]
    }
   ],
   "source": [
    "regressors = {}\n",
    "\n",
    "for df_tmp in df_list:\n",
    "    \n",
    "    city = df_tmp.city.unique()[0]\n",
    "    \n",
    "    print(\"City: \", city)\n",
    "    \n",
    "    X = df_tmp[FEATURES]\n",
    "    y = df_tmp[\"target\"]\n",
    "    \n",
    "    regr = RandomForestRegressor(n_estimators=2000,\n",
    "                                 max_depth=20, \n",
    "                                 criterion=\"squared_error\",\n",
    "                                 max_features=\"sqrt\",\n",
    "                                 random_state=7531,\n",
    "                                 oob_score=False,\n",
    "                                 n_jobs=-1)\n",
    "    \n",
    "    \n",
    "    regr.fit(X,y)\n",
    "    \n",
    "    regressors[city] = regr\n",
    "print(\"DONE\")"
   ]
  },
  {
   "cell_type": "code",
   "execution_count": null,
   "id": "8b2bcf3b-4be9-4a23-bbed-6a2dcfbcfb07",
   "metadata": {},
   "outputs": [],
   "source": [
    "import pickle"
   ]
  },
  {
   "cell_type": "code",
   "execution_count": 52,
   "id": "332f17db-9b19-403c-a375-24850e9f771f",
   "metadata": {},
   "outputs": [],
   "source": [
    "with open('model_dict_.pickle', 'wb') as handle:\n",
    "    pickle.dump(regressors, handle, protocol=pickle.HIGHEST_PROTOCOL)"
   ]
  },
  {
   "cell_type": "code",
   "execution_count": null,
   "id": "c12e8dc1-051a-441b-8ba5-f16a2d6bc8f2",
   "metadata": {},
   "outputs": [],
   "source": []
  }
 ],
 "metadata": {
  "kernelspec": {
   "display_name": "Python 3 (ipykernel)",
   "language": "python",
   "name": "python3"
  },
  "language_info": {
   "codemirror_mode": {
    "name": "ipython",
    "version": 3
   },
   "file_extension": ".py",
   "mimetype": "text/x-python",
   "name": "python",
   "nbconvert_exporter": "python",
   "pygments_lexer": "ipython3",
   "version": "3.8.0"
  }
 },
 "nbformat": 4,
 "nbformat_minor": 5
}
