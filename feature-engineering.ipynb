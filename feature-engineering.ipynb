{
 "cells": [
  {
   "cell_type": "code",
   "execution_count": 107,
   "id": "b6a27921-d1b1-412a-9131-175e801f039c",
   "metadata": {},
   "outputs": [],
   "source": [
    "import numpy as np\n",
    "import pandas as pd"
   ]
  },
  {
   "cell_type": "code",
   "execution_count": 128,
   "id": "52b3d4c6-c254-4a73-9448-c3eb0d157f0c",
   "metadata": {},
   "outputs": [],
   "source": [
    "def preprocess(df):\n",
    "    df.rename(columns = {'Load [MWh]':'load', 'Time [s]':'time', 'City':'city'}, inplace = True)\n",
    "    df.time = pd.to_datetime(df.time)"
   ]
  },
  {
   "cell_type": "code",
   "execution_count": 129,
   "id": "c52cdc6b-b837-404b-bc4e-79635579d509",
   "metadata": {},
   "outputs": [],
   "source": [
    "def encode(df, col, max_val):\n",
    "    df[col + '_sin'] = np.sin(2 * np.pi * df[col]/max_val)\n",
    "    df[col + '_cos'] = np.cos(2 * np.pi * df[col]/max_val)"
   ]
  },
  {
   "cell_type": "code",
   "execution_count": 130,
   "id": "bb257c51-73a8-4f34-8474-7450d1a432fd",
   "metadata": {},
   "outputs": [],
   "source": [
    "def add_time_features(df, drop=True):\n",
    "    # year - 2015?\n",
    "    df['hour'] = df.time.dt.hour\n",
    "    df['day_name'] = df.time.dt.day_name()\n",
    "    df['weekday'] = df.time.dt.weekday\n",
    "    df['day'] = df.time.dt.day\n",
    "    df['month'] = df.time.dt.month\n",
    "    df['year'] = df.time.dt.year\n",
    "    df['dayofyear'] = df.time.dt.dayofyear\n",
    "    \n",
    "    encode(df, 'hour', 23)\n",
    "    encode(df, 'day', 23)\n",
    "    encode(df, 'month', 23)\n",
    "    encode(df, 'dayofyear', 23)\n",
    "    \n",
    "    if drop:\n",
    "        df.drop(columns = ['time'], inplace = True)"
   ]
  },
  {
   "cell_type": "code",
   "execution_count": 131,
   "id": "463b3b94-383d-46d9-923c-df078365cd35",
   "metadata": {},
   "outputs": [],
   "source": [
    "df_train = pd.read_csv('/hkfs/work/workspace/scratch/bh6321-energy_challenge/data/train.csv')"
   ]
  },
  {
   "cell_type": "code",
   "execution_count": 132,
   "id": "613b5313-a656-4e1f-a347-9a1a6a1ccc9c",
   "metadata": {},
   "outputs": [],
   "source": [
    "df_val = pd.read_csv('/hkfs/work/workspace/scratch/bh6321-energy_challenge/data/valid.csv')"
   ]
  },
  {
   "cell_type": "code",
   "execution_count": 133,
   "id": "a3ead0c5-9ac1-4d5a-8b2e-693ce5c00564",
   "metadata": {},
   "outputs": [
    {
     "data": {
      "text/html": [
       "<div>\n",
       "<style scoped>\n",
       "    .dataframe tbody tr th:only-of-type {\n",
       "        vertical-align: middle;\n",
       "    }\n",
       "\n",
       "    .dataframe tbody tr th {\n",
       "        vertical-align: top;\n",
       "    }\n",
       "\n",
       "    .dataframe thead th {\n",
       "        text-align: right;\n",
       "    }\n",
       "</style>\n",
       "<table border=\"1\" class=\"dataframe\">\n",
       "  <thead>\n",
       "    <tr style=\"text-align: right;\">\n",
       "      <th></th>\n",
       "      <th>Load [MWh]</th>\n",
       "      <th>Time [s]</th>\n",
       "      <th>City</th>\n",
       "    </tr>\n",
       "  </thead>\n",
       "  <tbody>\n",
       "    <tr>\n",
       "      <th>0</th>\n",
       "      <td>263.365956</td>\n",
       "      <td>2015-01-01 00:00:00</td>\n",
       "      <td>bs</td>\n",
       "    </tr>\n",
       "    <tr>\n",
       "      <th>1</th>\n",
       "      <td>259.073621</td>\n",
       "      <td>2015-01-01 01:00:00</td>\n",
       "      <td>bs</td>\n",
       "    </tr>\n",
       "    <tr>\n",
       "      <th>2</th>\n",
       "      <td>246.612481</td>\n",
       "      <td>2015-01-01 02:00:00</td>\n",
       "      <td>bs</td>\n",
       "    </tr>\n",
       "    <tr>\n",
       "      <th>3</th>\n",
       "      <td>238.313719</td>\n",
       "      <td>2015-01-01 03:00:00</td>\n",
       "      <td>bs</td>\n",
       "    </tr>\n",
       "    <tr>\n",
       "      <th>4</th>\n",
       "      <td>237.114390</td>\n",
       "      <td>2015-01-01 04:00:00</td>\n",
       "      <td>bs</td>\n",
       "    </tr>\n",
       "  </tbody>\n",
       "</table>\n",
       "</div>"
      ],
      "text/plain": [
       "   Load [MWh]             Time [s] City\n",
       "0  263.365956  2015-01-01 00:00:00   bs\n",
       "1  259.073621  2015-01-01 01:00:00   bs\n",
       "2  246.612481  2015-01-01 02:00:00   bs\n",
       "3  238.313719  2015-01-01 03:00:00   bs\n",
       "4  237.114390  2015-01-01 04:00:00   bs"
      ]
     },
     "execution_count": 133,
     "metadata": {},
     "output_type": "execute_result"
    }
   ],
   "source": [
    "df_train.head()"
   ]
  },
  {
   "cell_type": "code",
   "execution_count": 134,
   "id": "1b50cc3e-7f04-41f6-95df-cde21c0cc827",
   "metadata": {},
   "outputs": [],
   "source": [
    "preprocess(df_train)"
   ]
  },
  {
   "cell_type": "code",
   "execution_count": 135,
   "id": "accb4226-378c-4df1-8347-d8c3852153fe",
   "metadata": {},
   "outputs": [],
   "source": [
    "add_time_features(df_train)"
   ]
  },
  {
   "cell_type": "code",
   "execution_count": 136,
   "id": "3a7776e2-3add-4c56-8b2f-c3fa6fc4bcf1",
   "metadata": {},
   "outputs": [
    {
     "data": {
      "text/html": [
       "<div>\n",
       "<style scoped>\n",
       "    .dataframe tbody tr th:only-of-type {\n",
       "        vertical-align: middle;\n",
       "    }\n",
       "\n",
       "    .dataframe tbody tr th {\n",
       "        vertical-align: top;\n",
       "    }\n",
       "\n",
       "    .dataframe thead th {\n",
       "        text-align: right;\n",
       "    }\n",
       "</style>\n",
       "<table border=\"1\" class=\"dataframe\">\n",
       "  <thead>\n",
       "    <tr style=\"text-align: right;\">\n",
       "      <th></th>\n",
       "      <th>load</th>\n",
       "      <th>city</th>\n",
       "      <th>hour</th>\n",
       "      <th>day_name</th>\n",
       "      <th>weekday</th>\n",
       "      <th>day</th>\n",
       "      <th>month</th>\n",
       "      <th>year</th>\n",
       "      <th>dayofyear</th>\n",
       "      <th>hour_sin</th>\n",
       "      <th>hour_cos</th>\n",
       "      <th>day_sin</th>\n",
       "      <th>day_cos</th>\n",
       "      <th>month_sin</th>\n",
       "      <th>month_cos</th>\n",
       "      <th>dayofyear_sin</th>\n",
       "      <th>dayofyear_cos</th>\n",
       "    </tr>\n",
       "  </thead>\n",
       "  <tbody>\n",
       "    <tr>\n",
       "      <th>0</th>\n",
       "      <td>263.365956</td>\n",
       "      <td>bs</td>\n",
       "      <td>0</td>\n",
       "      <td>Thursday</td>\n",
       "      <td>3</td>\n",
       "      <td>1</td>\n",
       "      <td>1</td>\n",
       "      <td>2015</td>\n",
       "      <td>1</td>\n",
       "      <td>0.000000</td>\n",
       "      <td>1.000000</td>\n",
       "      <td>0.269797</td>\n",
       "      <td>0.962917</td>\n",
       "      <td>0.269797</td>\n",
       "      <td>0.962917</td>\n",
       "      <td>0.269797</td>\n",
       "      <td>0.962917</td>\n",
       "    </tr>\n",
       "    <tr>\n",
       "      <th>1</th>\n",
       "      <td>259.073621</td>\n",
       "      <td>bs</td>\n",
       "      <td>1</td>\n",
       "      <td>Thursday</td>\n",
       "      <td>3</td>\n",
       "      <td>1</td>\n",
       "      <td>1</td>\n",
       "      <td>2015</td>\n",
       "      <td>1</td>\n",
       "      <td>0.269797</td>\n",
       "      <td>0.962917</td>\n",
       "      <td>0.269797</td>\n",
       "      <td>0.962917</td>\n",
       "      <td>0.269797</td>\n",
       "      <td>0.962917</td>\n",
       "      <td>0.269797</td>\n",
       "      <td>0.962917</td>\n",
       "    </tr>\n",
       "    <tr>\n",
       "      <th>2</th>\n",
       "      <td>246.612481</td>\n",
       "      <td>bs</td>\n",
       "      <td>2</td>\n",
       "      <td>Thursday</td>\n",
       "      <td>3</td>\n",
       "      <td>1</td>\n",
       "      <td>1</td>\n",
       "      <td>2015</td>\n",
       "      <td>1</td>\n",
       "      <td>0.519584</td>\n",
       "      <td>0.854419</td>\n",
       "      <td>0.269797</td>\n",
       "      <td>0.962917</td>\n",
       "      <td>0.269797</td>\n",
       "      <td>0.962917</td>\n",
       "      <td>0.269797</td>\n",
       "      <td>0.962917</td>\n",
       "    </tr>\n",
       "    <tr>\n",
       "      <th>3</th>\n",
       "      <td>238.313719</td>\n",
       "      <td>bs</td>\n",
       "      <td>3</td>\n",
       "      <td>Thursday</td>\n",
       "      <td>3</td>\n",
       "      <td>1</td>\n",
       "      <td>1</td>\n",
       "      <td>2015</td>\n",
       "      <td>1</td>\n",
       "      <td>0.730836</td>\n",
       "      <td>0.682553</td>\n",
       "      <td>0.269797</td>\n",
       "      <td>0.962917</td>\n",
       "      <td>0.269797</td>\n",
       "      <td>0.962917</td>\n",
       "      <td>0.269797</td>\n",
       "      <td>0.962917</td>\n",
       "    </tr>\n",
       "    <tr>\n",
       "      <th>4</th>\n",
       "      <td>237.114390</td>\n",
       "      <td>bs</td>\n",
       "      <td>4</td>\n",
       "      <td>Thursday</td>\n",
       "      <td>3</td>\n",
       "      <td>1</td>\n",
       "      <td>1</td>\n",
       "      <td>2015</td>\n",
       "      <td>1</td>\n",
       "      <td>0.887885</td>\n",
       "      <td>0.460065</td>\n",
       "      <td>0.269797</td>\n",
       "      <td>0.962917</td>\n",
       "      <td>0.269797</td>\n",
       "      <td>0.962917</td>\n",
       "      <td>0.269797</td>\n",
       "      <td>0.962917</td>\n",
       "    </tr>\n",
       "  </tbody>\n",
       "</table>\n",
       "</div>"
      ],
      "text/plain": [
       "         load city  hour  day_name  weekday  day  month  year  dayofyear  \\\n",
       "0  263.365956   bs     0  Thursday        3    1      1  2015          1   \n",
       "1  259.073621   bs     1  Thursday        3    1      1  2015          1   \n",
       "2  246.612481   bs     2  Thursday        3    1      1  2015          1   \n",
       "3  238.313719   bs     3  Thursday        3    1      1  2015          1   \n",
       "4  237.114390   bs     4  Thursday        3    1      1  2015          1   \n",
       "\n",
       "   hour_sin  hour_cos   day_sin   day_cos  month_sin  month_cos  \\\n",
       "0  0.000000  1.000000  0.269797  0.962917   0.269797   0.962917   \n",
       "1  0.269797  0.962917  0.269797  0.962917   0.269797   0.962917   \n",
       "2  0.519584  0.854419  0.269797  0.962917   0.269797   0.962917   \n",
       "3  0.730836  0.682553  0.269797  0.962917   0.269797   0.962917   \n",
       "4  0.887885  0.460065  0.269797  0.962917   0.269797   0.962917   \n",
       "\n",
       "   dayofyear_sin  dayofyear_cos  \n",
       "0       0.269797       0.962917  \n",
       "1       0.269797       0.962917  \n",
       "2       0.269797       0.962917  \n",
       "3       0.269797       0.962917  \n",
       "4       0.269797       0.962917  "
      ]
     },
     "execution_count": 136,
     "metadata": {},
     "output_type": "execute_result"
    }
   ],
   "source": [
    "df_train.head()"
   ]
  },
  {
   "cell_type": "code",
   "execution_count": 137,
   "id": "cba2412f-5d32-413e-9207-10b5728fe977",
   "metadata": {},
   "outputs": [],
   "source": [
    "preprocess(df_val)"
   ]
  },
  {
   "cell_type": "code",
   "execution_count": 138,
   "id": "abd4de83-523d-45c6-b0d5-6b8a328338df",
   "metadata": {},
   "outputs": [],
   "source": [
    "add_time_features(df_val)"
   ]
  },
  {
   "cell_type": "code",
   "execution_count": 139,
   "id": "c08c71c3-5c43-4333-98d3-10510ab93fe5",
   "metadata": {},
   "outputs": [
    {
     "data": {
      "text/html": [
       "<div>\n",
       "<style scoped>\n",
       "    .dataframe tbody tr th:only-of-type {\n",
       "        vertical-align: middle;\n",
       "    }\n",
       "\n",
       "    .dataframe tbody tr th {\n",
       "        vertical-align: top;\n",
       "    }\n",
       "\n",
       "    .dataframe thead th {\n",
       "        text-align: right;\n",
       "    }\n",
       "</style>\n",
       "<table border=\"1\" class=\"dataframe\">\n",
       "  <thead>\n",
       "    <tr style=\"text-align: right;\">\n",
       "      <th></th>\n",
       "      <th>load</th>\n",
       "      <th>city</th>\n",
       "      <th>hour</th>\n",
       "      <th>day_name</th>\n",
       "      <th>weekday</th>\n",
       "      <th>day</th>\n",
       "      <th>month</th>\n",
       "      <th>year</th>\n",
       "      <th>dayofyear</th>\n",
       "      <th>hour_sin</th>\n",
       "      <th>hour_cos</th>\n",
       "      <th>day_sin</th>\n",
       "      <th>day_cos</th>\n",
       "      <th>month_sin</th>\n",
       "      <th>month_cos</th>\n",
       "      <th>dayofyear_sin</th>\n",
       "      <th>dayofyear_cos</th>\n",
       "    </tr>\n",
       "  </thead>\n",
       "  <tbody>\n",
       "    <tr>\n",
       "      <th>0</th>\n",
       "      <td>208.066865</td>\n",
       "      <td>bs</td>\n",
       "      <td>0</td>\n",
       "      <td>Monday</td>\n",
       "      <td>0</td>\n",
       "      <td>1</td>\n",
       "      <td>1</td>\n",
       "      <td>2018</td>\n",
       "      <td>1</td>\n",
       "      <td>0.000000</td>\n",
       "      <td>1.000000</td>\n",
       "      <td>0.269797</td>\n",
       "      <td>0.962917</td>\n",
       "      <td>0.269797</td>\n",
       "      <td>0.962917</td>\n",
       "      <td>0.269797</td>\n",
       "      <td>0.962917</td>\n",
       "    </tr>\n",
       "    <tr>\n",
       "      <th>1</th>\n",
       "      <td>202.341276</td>\n",
       "      <td>bs</td>\n",
       "      <td>1</td>\n",
       "      <td>Monday</td>\n",
       "      <td>0</td>\n",
       "      <td>1</td>\n",
       "      <td>1</td>\n",
       "      <td>2018</td>\n",
       "      <td>1</td>\n",
       "      <td>0.269797</td>\n",
       "      <td>0.962917</td>\n",
       "      <td>0.269797</td>\n",
       "      <td>0.962917</td>\n",
       "      <td>0.269797</td>\n",
       "      <td>0.962917</td>\n",
       "      <td>0.269797</td>\n",
       "      <td>0.962917</td>\n",
       "    </tr>\n",
       "    <tr>\n",
       "      <th>2</th>\n",
       "      <td>191.499046</td>\n",
       "      <td>bs</td>\n",
       "      <td>2</td>\n",
       "      <td>Monday</td>\n",
       "      <td>0</td>\n",
       "      <td>1</td>\n",
       "      <td>1</td>\n",
       "      <td>2018</td>\n",
       "      <td>1</td>\n",
       "      <td>0.519584</td>\n",
       "      <td>0.854419</td>\n",
       "      <td>0.269797</td>\n",
       "      <td>0.962917</td>\n",
       "      <td>0.269797</td>\n",
       "      <td>0.962917</td>\n",
       "      <td>0.269797</td>\n",
       "      <td>0.962917</td>\n",
       "    </tr>\n",
       "    <tr>\n",
       "      <th>3</th>\n",
       "      <td>183.315389</td>\n",
       "      <td>bs</td>\n",
       "      <td>3</td>\n",
       "      <td>Monday</td>\n",
       "      <td>0</td>\n",
       "      <td>1</td>\n",
       "      <td>1</td>\n",
       "      <td>2018</td>\n",
       "      <td>1</td>\n",
       "      <td>0.730836</td>\n",
       "      <td>0.682553</td>\n",
       "      <td>0.269797</td>\n",
       "      <td>0.962917</td>\n",
       "      <td>0.269797</td>\n",
       "      <td>0.962917</td>\n",
       "      <td>0.269797</td>\n",
       "      <td>0.962917</td>\n",
       "    </tr>\n",
       "    <tr>\n",
       "      <th>4</th>\n",
       "      <td>181.941545</td>\n",
       "      <td>bs</td>\n",
       "      <td>4</td>\n",
       "      <td>Monday</td>\n",
       "      <td>0</td>\n",
       "      <td>1</td>\n",
       "      <td>1</td>\n",
       "      <td>2018</td>\n",
       "      <td>1</td>\n",
       "      <td>0.887885</td>\n",
       "      <td>0.460065</td>\n",
       "      <td>0.269797</td>\n",
       "      <td>0.962917</td>\n",
       "      <td>0.269797</td>\n",
       "      <td>0.962917</td>\n",
       "      <td>0.269797</td>\n",
       "      <td>0.962917</td>\n",
       "    </tr>\n",
       "  </tbody>\n",
       "</table>\n",
       "</div>"
      ],
      "text/plain": [
       "         load city  hour day_name  weekday  day  month  year  dayofyear  \\\n",
       "0  208.066865   bs     0   Monday        0    1      1  2018          1   \n",
       "1  202.341276   bs     1   Monday        0    1      1  2018          1   \n",
       "2  191.499046   bs     2   Monday        0    1      1  2018          1   \n",
       "3  183.315389   bs     3   Monday        0    1      1  2018          1   \n",
       "4  181.941545   bs     4   Monday        0    1      1  2018          1   \n",
       "\n",
       "   hour_sin  hour_cos   day_sin   day_cos  month_sin  month_cos  \\\n",
       "0  0.000000  1.000000  0.269797  0.962917   0.269797   0.962917   \n",
       "1  0.269797  0.962917  0.269797  0.962917   0.269797   0.962917   \n",
       "2  0.519584  0.854419  0.269797  0.962917   0.269797   0.962917   \n",
       "3  0.730836  0.682553  0.269797  0.962917   0.269797   0.962917   \n",
       "4  0.887885  0.460065  0.269797  0.962917   0.269797   0.962917   \n",
       "\n",
       "   dayofyear_sin  dayofyear_cos  \n",
       "0       0.269797       0.962917  \n",
       "1       0.269797       0.962917  \n",
       "2       0.269797       0.962917  \n",
       "3       0.269797       0.962917  \n",
       "4       0.269797       0.962917  "
      ]
     },
     "execution_count": 139,
     "metadata": {},
     "output_type": "execute_result"
    }
   ],
   "source": [
    "df_val.head()"
   ]
  },
  {
   "cell_type": "code",
   "execution_count": 140,
   "id": "779108cc-45ad-490f-98e1-82f700ca064c",
   "metadata": {},
   "outputs": [],
   "source": [
    "df_train.to_csv('data/processed/train.csv', index=False)"
   ]
  },
  {
   "cell_type": "code",
   "execution_count": 141,
   "id": "44b13b23-2178-4c51-a8af-831fb924b5b0",
   "metadata": {},
   "outputs": [],
   "source": [
    "df_val.to_csv('data/processed/valid.csv', index=False)"
   ]
  },
  {
   "cell_type": "code",
   "execution_count": 83,
   "id": "82ae811a-fb04-41dd-b0b7-ba9705bc7b43",
   "metadata": {},
   "outputs": [
    {
     "data": {
      "text/plain": [
       "<AxesSubplot:>"
      ]
     },
     "execution_count": 83,
     "metadata": {},
     "output_type": "execute_result"
    },
    {
     "data": {
      "image/png": "[encoded data removed]",
      "text/plain": [
       "<Figure size 432x288 with 1 Axes>"
      ]
     },
     "metadata": {
      "needs_background": "light"
     },
     "output_type": "display_data"
    }
   ],
   "source": [
    "df_train.load.hist()"
   ]
  },
  {
   "cell_type": "code",
   "execution_count": 84,
   "id": "e54e4cfd-09b6-41db-b8b5-f1a30c4d8778",
   "metadata": {},
   "outputs": [
    {
     "data": {
      "image/png": "[encoded data removed]",
      "text/plain": [
       "<Figure size 432x288 with 1 Axes>"
      ]
     },
     "metadata": {
      "needs_background": "light"
     },
     "output_type": "display_data"
    }
   ],
   "source": [
    "df_train.groupby('city')['load'].hist();"
   ]
  },
  {
   "cell_type": "code",
   "execution_count": 85,
   "id": "aa673738-4c3a-4e06-82b7-267e0cfcdf2a",
   "metadata": {},
   "outputs": [
    {
     "data": {
      "image/png": "[encoded data removed]",
      "text/plain": [
       "<Figure size 432x288 with 1 Axes>"
      ]
     },
     "metadata": {
      "needs_background": "light"
     },
     "output_type": "display_data"
    }
   ],
   "source": [
    "df_train.groupby('day_name')['load'].hist();"
   ]
  },
  {
   "cell_type": "code",
   "execution_count": 86,
   "id": "778853be-f41b-4a50-a0a1-e9c6ad15bd03",
   "metadata": {},
   "outputs": [
    {
     "data": {
      "image/png": "[encoded data removed]",
      "text/plain": [
       "<Figure size 432x288 with 1 Axes>"
      ]
     },
     "metadata": {
      "needs_background": "light"
     },
     "output_type": "display_data"
    }
   ],
   "source": [
    "df_train.groupby(['city', 'day_name'])['load'].hist();"
   ]
  },
  {
   "cell_type": "code",
   "execution_count": 87,
   "id": "572a2a32-ab9b-4263-9fb2-ad9007232024",
   "metadata": {},
   "outputs": [
    {
     "data": {
      "image/png": "[encoded data removed]",
      "text/plain": [
       "<Figure size 432x288 with 1 Axes>"
      ]
     },
     "metadata": {
      "needs_background": "light"
     },
     "output_type": "display_data"
    }
   ],
   "source": [
    "df_train.groupby('month')['load'].hist();"
   ]
  },
  {
   "cell_type": "code",
   "execution_count": 49,
   "id": "91d2aaa3-9a12-4542-95e0-ef3cd4cf57c3",
   "metadata": {},
   "outputs": [
    {
     "data": {
      "image/png": "[encoded data removed]",
      "text/plain": [
       "<Figure size 432x288 with 1 Axes>"
      ]
     },
     "metadata": {
      "needs_background": "light"
     },
     "output_type": "display_data"
    }
   ],
   "source": [
    "df_train.groupby('year')['load'].hist();"
   ]
  },
  {
   "cell_type": "code",
   "execution_count": 10,
   "id": "1fe68c84-b1a7-4f2f-a02c-f9779354d92d",
   "metadata": {},
   "outputs": [
    {
     "data": {
      "text/plain": [
       "14"
      ]
     },
     "execution_count": 10,
     "metadata": {},
     "output_type": "execute_result"
    }
   ],
   "source": [
    "df_train.city.nunique()"
   ]
  },
  {
   "cell_type": "code",
   "execution_count": null,
   "id": "35b2b01b-a2f3-41bc-a655-e83b6f03d0c7",
   "metadata": {},
   "outputs": [],
   "source": []
  }
 ],
 "metadata": {
  "kernelspec": {
   "display_name": "Python 3 (ipykernel)",
   "language": "python",
   "name": "python3"
  },
  "language_info": {
   "codemirror_mode": {
    "name": "ipython",
    "version": 3
   },
   "file_extension": ".py",
   "mimetype": "text/x-python",
   "name": "python",
   "nbconvert_exporter": "python",
   "pygments_lexer": "ipython3",
   "version": "3.8.0"
  }
 },
 "nbformat": 4,
 "nbformat_minor": 5
}
