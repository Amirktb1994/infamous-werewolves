{
 "cells": [
  {
   "cell_type": "code",
   "execution_count": 1,
   "id": "9007131d-272d-467f-bbed-89ce38b8215e",
   "metadata": {},
   "outputs": [],
   "source": [
    "import os\n",
    "import json\n",
    "from argparse import ArgumentParser\n",
    "import pandas as pd\n",
    "import torch\n",
    "from torch.nn import L1Loss\n",
    "from torch.utils.data import DataLoader\n",
    "\n",
    "from dataset import CustomLoadDataset"
   ]
  },
  {
   "cell_type": "code",
   "execution_count": 2,
   "id": "a75d924e-712b-40d0-b7a8-9ff2513e207b",
   "metadata": {},
   "outputs": [],
   "source": [
    "baseline_mae = 9.538227766478586"
   ]
  },
  {
   "cell_type": "code",
   "execution_count": 3,
   "id": "65736ee5-85c2-4d21-b899-07700ef1f00e",
   "metadata": {},
   "outputs": [],
   "source": [
    "def evaluate(forecasts: torch.Tensor, target: torch.Tensor, reference: float = baseline_mae) -> float:\n",
    "    assert forecasts.size() == target.size(), f\"Forcast shape: {forecasts.size()} not matching target: {target.size()}!\"\n",
    "    criterion = L1Loss()\n",
    "    mae = criterion(forecasts, target)\n",
    "    mase = mae.item() / reference\n",
    "    return mase"
   ]
  },
  {
   "cell_type": "code",
   "execution_count": null,
   "id": "382aa108-708f-4329-b2ba-bfa5eede5770",
   "metadata": {},
   "outputs": [],
   "source": [
    "parser = ArgumentParser()\n",
    "parser.add_argument(\"--forecast_path\", type=str,\n",
    "                    default='/hkfs/work/workspace/scratch/bh6321-energy_challenge/AI-HERO/forecasts.csv',\n",
    "                    help=\"path of the saved forecasts\")  # TODO: adapt to your forecasts path\n",
    "parser.add_argument(\"--save_dir\", type=str, help='Directory where results are saved', default='.')\n",
    "parser.add_argument(\"--data_dir\", type=str, help='Directory containing the reference data',\n",
    "                    default='/hkfs/work/workspace/scratch/bh6321-energy_challenge/data')\n",
    "args = parser.parse_args()\n",
    "\n",
    "save_dir = args.save_dir\n",
    "data_dir = args.data_dir\n",
    "\n",
    "forecast_path = args.forecast_path"
   ]
  },
  {
   "cell_type": "code",
   "execution_count": 4,
   "id": "234a140b-0bce-478c-84d8-7a0365bbd03b",
   "metadata": {},
   "outputs": [],
   "source": [
    "save_dir = 'results'\n",
    "forecast_path = 'forecasts/forecasts.csv'\n",
    "data_dir = '/hkfs/work/workspace/scratch/bh6321-energy_challenge/data/'"
   ]
  },
  {
   "cell_type": "code",
   "execution_count": 5,
   "id": "b700541a-2bf1-41e3-89e4-77cd217cf7a4",
   "metadata": {},
   "outputs": [],
   "source": [
    "# load forecasts\n",
    "df = pd.read_csv(forecast_path, header=None)\n",
    "forecasts = torch.from_numpy(df.to_numpy())"
   ]
  },
  {
   "cell_type": "code",
   "execution_count": 6,
   "id": "1cd4006e-ba24-41fd-a4ed-36ba04d465e4",
   "metadata": {},
   "outputs": [
    {
     "ename": "AssertionError",
     "evalue": "Forcast shape: torch.Size([730, 168]) not matching target: torch.Size([117936, 168])!",
     "output_type": "error",
     "traceback": [
      "\u001b[0;31m---------------------------------------------------------------------------\u001b[0m",
      "\u001b[0;31mAssertionError\u001b[0m                            Traceback (most recent call last)",
      "\u001b[0;32m/scratch/slurm_tmpdir/job_1569471/ipykernel_2732196/478143315.py\u001b[0m in \u001b[0;36m<module>\u001b[0;34m\u001b[0m\n\u001b[1;32m      7\u001b[0m \u001b[0;34m\u001b[0m\u001b[0m\n\u001b[1;32m      8\u001b[0m \u001b[0;32mfor\u001b[0m \u001b[0m_\u001b[0m\u001b[0;34m,\u001b[0m \u001b[0mtarget\u001b[0m \u001b[0;32min\u001b[0m \u001b[0mtestloader\u001b[0m\u001b[0;34m:\u001b[0m\u001b[0;34m\u001b[0m\u001b[0;34m\u001b[0m\u001b[0m\n\u001b[0;32m----> 9\u001b[0;31m     \u001b[0mtest_acc\u001b[0m \u001b[0;34m=\u001b[0m \u001b[0mevaluate\u001b[0m\u001b[0;34m(\u001b[0m\u001b[0mforecasts\u001b[0m\u001b[0;34m,\u001b[0m \u001b[0mtarget\u001b[0m\u001b[0;34m.\u001b[0m\u001b[0msqueeze\u001b[0m\u001b[0;34m(\u001b[0m\u001b[0mdim\u001b[0m\u001b[0;34m=\u001b[0m\u001b[0;34m-\u001b[0m\u001b[0;36m1\u001b[0m\u001b[0;34m)\u001b[0m\u001b[0;34m)\u001b[0m\u001b[0;34m\u001b[0m\u001b[0;34m\u001b[0m\u001b[0m\n\u001b[0m\u001b[1;32m     10\u001b[0m \u001b[0;34m\u001b[0m\u001b[0m\n\u001b[1;32m     11\u001b[0m \u001b[0mresult_path\u001b[0m \u001b[0;34m=\u001b[0m \u001b[0mos\u001b[0m\u001b[0;34m.\u001b[0m\u001b[0mpath\u001b[0m\u001b[0;34m.\u001b[0m\u001b[0mjoin\u001b[0m\u001b[0;34m(\u001b[0m\u001b[0msave_dir\u001b[0m\u001b[0;34m,\u001b[0m \u001b[0;34m'score.json'\u001b[0m\u001b[0;34m)\u001b[0m\u001b[0;34m\u001b[0m\u001b[0;34m\u001b[0m\u001b[0m\n",
      "\u001b[0;32m/scratch/slurm_tmpdir/job_1569471/ipykernel_2732196/254144953.py\u001b[0m in \u001b[0;36mevaluate\u001b[0;34m(forecasts, target, reference)\u001b[0m\n\u001b[1;32m      1\u001b[0m \u001b[0;32mdef\u001b[0m \u001b[0mevaluate\u001b[0m\u001b[0;34m(\u001b[0m\u001b[0mforecasts\u001b[0m\u001b[0;34m:\u001b[0m \u001b[0mtorch\u001b[0m\u001b[0;34m.\u001b[0m\u001b[0mTensor\u001b[0m\u001b[0;34m,\u001b[0m \u001b[0mtarget\u001b[0m\u001b[0;34m:\u001b[0m \u001b[0mtorch\u001b[0m\u001b[0;34m.\u001b[0m\u001b[0mTensor\u001b[0m\u001b[0;34m,\u001b[0m \u001b[0mreference\u001b[0m\u001b[0;34m:\u001b[0m \u001b[0mfloat\u001b[0m \u001b[0;34m=\u001b[0m \u001b[0mbaseline_mae\u001b[0m\u001b[0;34m)\u001b[0m \u001b[0;34m->\u001b[0m \u001b[0mfloat\u001b[0m\u001b[0;34m:\u001b[0m\u001b[0;34m\u001b[0m\u001b[0;34m\u001b[0m\u001b[0m\n\u001b[0;32m----> 2\u001b[0;31m     \u001b[0;32massert\u001b[0m \u001b[0mforecasts\u001b[0m\u001b[0;34m.\u001b[0m\u001b[0msize\u001b[0m\u001b[0;34m(\u001b[0m\u001b[0;34m)\u001b[0m \u001b[0;34m==\u001b[0m \u001b[0mtarget\u001b[0m\u001b[0;34m.\u001b[0m\u001b[0msize\u001b[0m\u001b[0;34m(\u001b[0m\u001b[0;34m)\u001b[0m\u001b[0;34m,\u001b[0m \u001b[0;34mf\"Forcast shape: {forecasts.size()} not matching target: {target.size()}!\"\u001b[0m\u001b[0;34m\u001b[0m\u001b[0;34m\u001b[0m\u001b[0m\n\u001b[0m\u001b[1;32m      3\u001b[0m     \u001b[0mcriterion\u001b[0m \u001b[0;34m=\u001b[0m \u001b[0mL1Loss\u001b[0m\u001b[0;34m(\u001b[0m\u001b[0;34m)\u001b[0m\u001b[0;34m\u001b[0m\u001b[0;34m\u001b[0m\u001b[0m\n\u001b[1;32m      4\u001b[0m     \u001b[0mmae\u001b[0m \u001b[0;34m=\u001b[0m \u001b[0mcriterion\u001b[0m\u001b[0;34m(\u001b[0m\u001b[0mforecasts\u001b[0m\u001b[0;34m,\u001b[0m \u001b[0mtarget\u001b[0m\u001b[0;34m)\u001b[0m\u001b[0;34m\u001b[0m\u001b[0;34m\u001b[0m\u001b[0m\n\u001b[1;32m      5\u001b[0m     \u001b[0mmase\u001b[0m \u001b[0;34m=\u001b[0m \u001b[0mmae\u001b[0m\u001b[0;34m.\u001b[0m\u001b[0mitem\u001b[0m\u001b[0;34m(\u001b[0m\u001b[0;34m)\u001b[0m \u001b[0;34m/\u001b[0m \u001b[0mreference\u001b[0m\u001b[0;34m\u001b[0m\u001b[0;34m\u001b[0m\u001b[0m\n",
      "\u001b[0;31mAssertionError\u001b[0m: Forcast shape: torch.Size([730, 168]) not matching target: torch.Size([117936, 168])!"
     ]
    }
   ],
   "source": [
    "# load target\n",
    "test_file = os.path.join(data_dir, 'test.csv')\n",
    "valid_file = os.path.join(data_dir, 'valid.csv')\n",
    "data_file = test_file if os.path.exists(test_file) else valid_file\n",
    "testset = CustomLoadDataset(data_file, 7*24, 7*24, normalize=False)\n",
    "testloader = DataLoader(testset, len(testset), shuffle=False)\n",
    "\n",
    "for _, target in testloader:\n",
    "    test_acc = evaluate(forecasts, target.squeeze(dim=-1))\n",
    "\n",
    "result_path = os.path.join(save_dir, 'score.json')\n",
    "with open(result_path, 'w') as f:\n",
    "    print('Score: ', test_acc)\n",
    "    json.dump(test_acc, f)\n",
    "\n",
    "print('Done! The result is saved in {}'.format(result_path))"
   ]
  },
  {
   "cell_type": "code",
   "execution_count": null,
   "id": "5d924721-8721-43a8-9af1-2d06dbc6d7cc",
   "metadata": {},
   "outputs": [],
   "source": []
  }
 ],
 "metadata": {
  "kernelspec": {
   "display_name": "Python (env1)",
   "language": "python",
   "name": "env1"
  },
  "language_info": {
   "codemirror_mode": {
    "name": "ipython",
    "version": 3
   },
   "file_extension": ".py",
   "mimetype": "text/x-python",
   "name": "python",
   "nbconvert_exporter": "python",
   "pygments_lexer": "ipython3",
   "version": "3.8.0"
  }
 },
 "nbformat": 4,
 "nbformat_minor": 5
}
