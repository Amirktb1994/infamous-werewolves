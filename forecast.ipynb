{
 "cells": [
  {
   "cell_type": "code",
   "execution_count": 1,
   "id": "c9830e70-84c7-4423-abce-3ce97b87769b",
   "metadata": {},
   "outputs": [],
   "source": [
    "import os\n",
    "import pickle\n",
    "\n",
    "from features import *"
   ]
  },
  {
   "cell_type": "code",
   "execution_count": 4,
   "id": "2f20c8b7-1bef-479c-84a9-976f0f47462c",
   "metadata": {},
   "outputs": [],
   "source": [
    "with open('model' , 'rb') as f:\n",
    "    xgb = pickle.load(f)"
   ]
  },
  {
   "cell_type": "code",
   "execution_count": 2,
   "id": "fea2d703-9014-49d8-933a-8e9eb26dd8d6",
   "metadata": {},
   "outputs": [],
   "source": [
    "with open('model_dict.pickle' , 'rb') as f:\n",
    "    model = pickle.load(f)"
   ]
  },
  {
   "cell_type": "code",
   "execution_count": 3,
   "id": "2c5a5222-2d8a-440f-b184-a4b34d360f35",
   "metadata": {},
   "outputs": [
    {
     "data": {
      "text/plain": [
       "{'bs': RandomForestRegressor(max_depth=20, max_features='sqrt', n_estimators=2000,\n",
       "                       n_jobs=-1, random_state=7531),\n",
       " 'h': RandomForestRegressor(max_depth=20, max_features='sqrt', n_estimators=2000,\n",
       "                       n_jobs=-1, random_state=7531),\n",
       " 'hm': RandomForestRegressor(max_depth=20, max_features='sqrt', n_estimators=2000,\n",
       "                       n_jobs=-1, random_state=7531),\n",
       " 'ol': RandomForestRegressor(max_depth=20, max_features='sqrt', n_estimators=2000,\n",
       "                       n_jobs=-1, random_state=7531),\n",
       " 'del': RandomForestRegressor(max_depth=20, max_features='sqrt', n_estimators=2000,\n",
       "                       n_jobs=-1, random_state=7531),\n",
       " 'el': RandomForestRegressor(max_depth=20, max_features='sqrt', n_estimators=2000,\n",
       "                       n_jobs=-1, random_state=7531),\n",
       " 'os': RandomForestRegressor(max_depth=20, max_features='sqrt', n_estimators=2000,\n",
       "                       n_jobs=-1, random_state=7531),\n",
       " 'wob': RandomForestRegressor(max_depth=20, max_features='sqrt', n_estimators=2000,\n",
       "                       n_jobs=-1, random_state=7531),\n",
       " 'hi': RandomForestRegressor(max_depth=20, max_features='sqrt', n_estimators=2000,\n",
       "                       n_jobs=-1, random_state=7531),\n",
       " 'whv': RandomForestRegressor(max_depth=20, max_features='sqrt', n_estimators=2000,\n",
       "                       n_jobs=-1, random_state=7531),\n",
       " 'lg': RandomForestRegressor(max_depth=20, max_features='sqrt', n_estimators=2000,\n",
       "                       n_jobs=-1, random_state=7531),\n",
       " 'ce': RandomForestRegressor(max_depth=20, max_features='sqrt', n_estimators=2000,\n",
       "                       n_jobs=-1, random_state=7531),\n",
       " 'go': RandomForestRegressor(max_depth=20, max_features='sqrt', n_estimators=2000,\n",
       "                       n_jobs=-1, random_state=7531),\n",
       " 'sz': RandomForestRegressor(max_depth=20, max_features='sqrt', n_estimators=2000,\n",
       "                       n_jobs=-1, random_state=7531)}"
      ]
     },
     "execution_count": 3,
     "metadata": {},
     "output_type": "execute_result"
    }
   ],
   "source": [
    "model"
   ]
  },
  {
   "cell_type": "code",
   "execution_count": 12,
   "id": "052375d4-bc01-42f5-bfe7-721c570e0391",
   "metadata": {},
   "outputs": [],
   "source": [
    "data_dir = '/hkfs/work/workspace/scratch/bh6321-energy_challenge/data/'\n",
    "save_dir = 'forecasts/'"
   ]
  },
  {
   "cell_type": "code",
   "execution_count": 13,
   "id": "ed490034-9517-45f0-a202-5b77e40e2cfb",
   "metadata": {},
   "outputs": [],
   "source": [
    "# dataloader\n",
    "test_file = os.path.join(data_dir, 'test.csv')\n",
    "valid_file = os.path.join(data_dir, 'valid.csv')\n",
    "\n",
    "data_file = test_file if os.path.exists(test_file) else valid_file"
   ]
  },
  {
   "cell_type": "code",
   "execution_count": 14,
   "id": "10fc12b0-0040-43c9-ad4d-075feb9dfa07",
   "metadata": {},
   "outputs": [
    {
     "data": {
      "text/plain": [
       "'/hkfs/work/workspace/scratch/bh6321-energy_challenge/data/valid.csv'"
      ]
     },
     "execution_count": 14,
     "metadata": {},
     "output_type": "execute_result"
    }
   ],
   "source": [
    "data_file"
   ]
  },
  {
   "cell_type": "code",
   "execution_count": 58,
   "id": "43d471b0-9a93-4535-9f9c-195cf9fefddf",
   "metadata": {},
   "outputs": [],
   "source": [
    "pd.options.mode.chained_assignment = None"
   ]
  },
  {
   "cell_type": "code",
   "execution_count": 54,
   "id": "0b0233c2-4cf1-43a2-a68a-cd92cbf433ac",
   "metadata": {},
   "outputs": [],
   "source": [
    "df = pd.read_csv(data_file)"
   ]
  },
  {
   "cell_type": "code",
   "execution_count": 55,
   "id": "7d1700a3-8970-48ef-bc3f-9ed20431836f",
   "metadata": {},
   "outputs": [],
   "source": [
    "df = preprocess(df)\n",
    "df = add_time_features(df, drop = True)"
   ]
  },
  {
   "cell_type": "code",
   "execution_count": 56,
   "id": "9c92d9dd-64f9-4295-a14c-f828501eff6c",
   "metadata": {},
   "outputs": [],
   "source": [
    "df.drop(columns='day_name', inplace=True)"
   ]
  },
  {
   "cell_type": "code",
   "execution_count": 57,
   "id": "29fa0868-3539-47c0-9cc1-1af16c2acd9f",
   "metadata": {},
   "outputs": [],
   "source": [
    "# CATEGORICAL_VARIABLES = ['day_name']\n",
    "\n",
    "# # one-hot-encoding of categorical features\n",
    "# df = pd.get_dummies(df, columns = CATEGORICAL_VARIABLES)"
   ]
  },
  {
   "cell_type": "code",
   "execution_count": 59,
   "id": "50270395-aa5c-4192-bc9b-aab266f3bf79",
   "metadata": {},
   "outputs": [],
   "source": [
    "df_list = add_ts_features(df, return_as_list=True)"
   ]
  },
  {
   "cell_type": "code",
   "execution_count": 60,
   "id": "aed427b5-85f7-46a5-8e1a-ba627234f278",
   "metadata": {},
   "outputs": [
    {
     "name": "stdout",
     "output_type": "stream",
     "text": [
      "bs\n",
      "h\n",
      "hm\n",
      "ol\n",
      "del\n",
      "el\n",
      "os\n",
      "wob\n",
      "hi\n",
      "whv\n",
      "lg\n",
      "ce\n",
      "go\n",
      "sz\n"
     ]
    }
   ],
   "source": [
    "forecast_dict = dict()\n",
    "for df_tmp in df_list:\n",
    "    city = df_tmp.city.unique()[0]\n",
    "    print(city)\n",
    "    df_tmp.drop(columns='city', inplace=True)\n",
    "    pred = model[city].predict(df_tmp)\n",
    "    forecast_dict[city] = pred"
   ]
  },
  {
   "cell_type": "code",
   "execution_count": 44,
   "id": "95f3fc31-2a8c-4d54-89d6-c749364b20a1",
   "metadata": {},
   "outputs": [
    {
     "data": {
      "text/plain": [
       "{'bs': array([219.00212969, 213.40765118, 204.07711395, ..., 261.65559443,\n",
       "        267.37731205, 261.99892601]),\n",
       " 'h': array([595.72750848, 585.85908414, 595.569256  , ..., 733.79838856,\n",
       "        696.25317395, 658.14632712]),\n",
       " 'hm': array([189.88723749, 187.99381489, 188.28669213, ..., 213.74766164,\n",
       "        208.63585749, 205.34701821]),\n",
       " 'ol': array([163.02161994, 161.18861286, 155.77087321, ..., 178.46701189,\n",
       "        161.67751038, 153.68273351]),\n",
       " 'del': array([124.71822539, 124.66486443, 125.99687123, ..., 149.48330114,\n",
       "        143.24965064, 139.8664225 ]),\n",
       " 'el': array([69.65273544, 64.93499997, 61.78841001, ..., 82.21574408,\n",
       "        75.16569173, 73.23667747]),\n",
       " 'os': array([59.41120453, 56.491366  , 56.0216138 , ..., 84.59179604,\n",
       "        75.11173097, 69.56404197]),\n",
       " 'wob': array([64.17896413, 61.8643449 , 60.81880193, ..., 78.73077106,\n",
       "        73.28360566, 67.95784076]),\n",
       " 'hi': array([52.76998666, 49.30199409, 47.25557991, ..., 65.77820702,\n",
       "        63.67671023, 58.50170777]),\n",
       " 'whv': array([58.37531046, 59.24034371, 60.56695766, ..., 59.96584908,\n",
       "        60.15020138, 61.55463557]),\n",
       " 'lg': array([204.40283214, 201.55006975, 199.339186  , ..., 251.54959228,\n",
       "        238.30970444, 227.7500519 ]),\n",
       " 'ce': array([41.01077181, 39.9837325 , 39.96882652, ..., 47.82603585,\n",
       "        44.50242578, 42.297027  ]),\n",
       " 'go': array([298.47573244, 291.22385658, 290.95160225, ..., 339.02945944,\n",
       "        319.60888802, 317.03903557]),\n",
       " 'sz': array([337.23471304, 325.32753394, 320.88433134, ..., 383.44213506,\n",
       "        382.39458421, 368.95854498])}"
      ]
     },
     "execution_count": 44,
     "metadata": {},
     "output_type": "execute_result"
    }
   ],
   "source": [
    "forecast_dict"
   ]
  },
  {
   "cell_type": "code",
   "execution_count": 64,
   "id": "560eaecd-c512-40c4-be9f-77da9e769e71",
   "metadata": {},
   "outputs": [],
   "source": [
    "y_pred = np.array([])"
   ]
  },
  {
   "cell_type": "code",
   "execution_count": 68,
   "id": "f0abdd80-4198-40ba-8112-fa54abb3cb9c",
   "metadata": {},
   "outputs": [],
   "source": [
    "for f in forecast_dict.values():\n",
    "    y_pred = np.concatenate([y_pred, f[24*7:-24*7]])"
   ]
  },
  {
   "cell_type": "code",
   "execution_count": 74,
   "id": "9ab83b7c-a4bb-4352-a4a1-f259af873730",
   "metadata": {},
   "outputs": [
    {
     "data": {
      "text/plain": [
       "(122640, 17)"
      ]
     },
     "execution_count": 74,
     "metadata": {},
     "output_type": "execute_result"
    }
   ],
   "source": [
    "df.shape"
   ]
  },
  {
   "cell_type": "code",
   "execution_count": 75,
   "id": "ffe569df-178e-4adc-af52-a38d97679817",
   "metadata": {},
   "outputs": [
    {
     "data": {
      "text/plain": [
       "10220"
      ]
     },
     "execution_count": 75,
     "metadata": {},
     "output_type": "execute_result"
    }
   ],
   "source": [
    "730*14"
   ]
  },
  {
   "cell_type": "code",
   "execution_count": 70,
   "id": "b04b44bc-397d-4978-ac63-8b6d5c6ec4bd",
   "metadata": {},
   "outputs": [
    {
     "data": {
      "text/plain": [
       "117936"
      ]
     },
     "execution_count": 70,
     "metadata": {},
     "output_type": "execute_result"
    }
   ],
   "source": [
    "len(y_pred)"
   ]
  },
  {
   "cell_type": "code",
   "execution_count": 73,
   "id": "60a0b5e7-1c45-4ffd-a8de-40e6848e1f96",
   "metadata": {},
   "outputs": [
    {
     "data": {
      "text/plain": [
       "8760"
      ]
     },
     "execution_count": 73,
     "metadata": {},
     "output_type": "execute_result"
    }
   ],
   "source": [
    "len(forecast_dict['bs'])"
   ]
  },
  {
   "cell_type": "code",
   "execution_count": 76,
   "id": "4500ce94-5900-458d-9364-1920a454df3f",
   "metadata": {},
   "outputs": [
    {
     "data": {
      "text/plain": [
       "8424"
      ]
     },
     "execution_count": 76,
     "metadata": {},
     "output_type": "execute_result"
    }
   ],
   "source": [
    "len(forecast_dict['bs']) -14*24"
   ]
  },
  {
   "cell_type": "code",
   "execution_count": 72,
   "id": "67a6412f-0a0b-430b-89fc-4137caca4991",
   "metadata": {},
   "outputs": [
    {
     "data": {
      "text/plain": [
       "8424.0"
      ]
     },
     "execution_count": 72,
     "metadata": {},
     "output_type": "execute_result"
    }
   ],
   "source": [
    "117936/14"
   ]
  },
  {
   "cell_type": "code",
   "execution_count": 52,
   "id": "613e4305-fa52-4f67-b9c7-e3374ef51e24",
   "metadata": {},
   "outputs": [
    {
     "data": {
      "text/plain": [
       "117936"
      ]
     },
     "execution_count": 52,
     "metadata": {},
     "output_type": "execute_result"
    }
   ],
   "source": [
    "8424*14"
   ]
  },
  {
   "cell_type": "code",
   "execution_count": 50,
   "id": "482da804-58f5-4721-8e41-fcab027e100d",
   "metadata": {},
   "outputs": [
    {
     "data": {
      "text/plain": [
       "(122640, 17)"
      ]
     },
     "execution_count": 50,
     "metadata": {},
     "output_type": "execute_result"
    }
   ],
   "source": [
    "df.shape"
   ]
  },
  {
   "cell_type": "code",
   "execution_count": null,
   "id": "35ac02a1-20e8-497a-ad4a-e81744327dcd",
   "metadata": {},
   "outputs": [],
   "source": [
    "y_pred = xgb.predict(X)"
   ]
  },
  {
   "cell_type": "code",
   "execution_count": 21,
   "id": "305bc89f-dc7d-400b-b993-f838e67db037",
   "metadata": {},
   "outputs": [
    {
     "data": {
      "text/plain": [
       "(122640, 36)"
      ]
     },
     "execution_count": 21,
     "metadata": {},
     "output_type": "execute_result"
    }
   ],
   "source": [
    "X.shape"
   ]
  },
  {
   "cell_type": "code",
   "execution_count": 19,
   "id": "ad637189-1ff8-4fbf-92fe-de0cc436404a",
   "metadata": {},
   "outputs": [
    {
     "data": {
      "text/plain": [
       "(122640,)"
      ]
     },
     "execution_count": 19,
     "metadata": {},
     "output_type": "execute_result"
    }
   ],
   "source": [
    "y_pred.shape"
   ]
  },
  {
   "cell_type": "code",
   "execution_count": 13,
   "id": "825d35e9-8220-4795-bbac-d8f1940f33d9",
   "metadata": {},
   "outputs": [],
   "source": [
    "submission = pd.DataFrame(np.reshape(y_pred, (len(y_pred)//(24*7), 24*7)))"
   ]
  },
  {
   "cell_type": "code",
   "execution_count": 14,
   "id": "fcfe20f1-ae5b-4de8-bd34-6f95ecc4c3cd",
   "metadata": {},
   "outputs": [
    {
     "data": {
      "text/plain": [
       "(730, 168)"
      ]
     },
     "execution_count": 14,
     "metadata": {},
     "output_type": "execute_result"
    }
   ],
   "source": [
    "submission.shape"
   ]
  },
  {
   "cell_type": "code",
   "execution_count": 17,
   "id": "35c80a07-e4f7-4e0e-8ff4-3f919e427a7e",
   "metadata": {},
   "outputs": [
    {
     "name": "stdout",
     "output_type": "stream",
     "text": [
      "Done! The result is saved in forecasts/forecasts.csv\n"
     ]
    }
   ],
   "source": [
    "# save to csv\n",
    "result_path = os.path.join(save_dir, 'forecasts.csv')\n",
    "submission.to_csv(result_path, header=False, index=False)\n",
    "\n",
    "print(f\"Done! The result is saved in {result_path}\")"
   ]
  },
  {
   "cell_type": "code",
   "execution_count": null,
   "id": "5599ae2f-1f6f-4c7d-a6cb-6af6b61b5c13",
   "metadata": {},
   "outputs": [],
   "source": []
  },
  {
   "cell_type": "code",
   "execution_count": null,
   "id": "0504b808-99c0-4734-aab5-ee7f4cf69170",
   "metadata": {},
   "outputs": [],
   "source": []
  },
  {
   "cell_type": "code",
   "execution_count": null,
   "id": "bd03ee6d-1896-412a-b078-759a79ea76fa",
   "metadata": {},
   "outputs": [],
   "source": []
  },
  {
   "cell_type": "code",
   "execution_count": null,
   "id": "ff47be93-0e51-4a05-a9e0-66484a8cf2fa",
   "metadata": {},
   "outputs": [],
   "source": []
  },
  {
   "cell_type": "code",
   "execution_count": null,
   "id": "46011f13-9d7e-48db-94c4-e472abb23473",
   "metadata": {},
   "outputs": [],
   "source": []
  },
  {
   "cell_type": "code",
   "execution_count": null,
   "id": "9b598c5f-49f0-4620-b1ef-d6c016be2483",
   "metadata": {},
   "outputs": [],
   "source": []
  },
  {
   "cell_type": "code",
   "execution_count": null,
   "id": "df1091c8-470a-4de5-8c88-886c0fdd4591",
   "metadata": {},
   "outputs": [],
   "source": []
  }
 ],
 "metadata": {
  "kernelspec": {
   "display_name": "Python (env1)",
   "language": "python",
   "name": "env1"
  },
  "language_info": {
   "codemirror_mode": {
    "name": "ipython",
    "version": 3
   },
   "file_extension": ".py",
   "mimetype": "text/x-python",
   "name": "python",
   "nbconvert_exporter": "python",
   "pygments_lexer": "ipython3",
   "version": "3.8.0"
  }
 },
 "nbformat": 4,
 "nbformat_minor": 5
}
