{
 "cells": [
  {
   "cell_type": "code",
   "execution_count": 17,
   "id": "fd9765fa-6881-4ecd-ba25-7f68f810e12e",
   "metadata": {},
   "outputs": [],
   "source": [
    "import numpy as np\n",
    "import pandas as pd"
   ]
  },
  {
   "cell_type": "code",
   "execution_count": 18,
   "id": "6d2932c9-9df9-437f-8089-216e31c524cf",
   "metadata": {},
   "outputs": [
    {
     "data": {
      "text/plain": [
       "'/hkfs/work/workspace/scratch/bh6321-E6/infamous-werewolves'"
      ]
     },
     "execution_count": 18,
     "metadata": {},
     "output_type": "execute_result"
    }
   ],
   "source": [
    "import os\n",
    "os.getcwd()"
   ]
  },
  {
   "cell_type": "code",
   "execution_count": 19,
   "id": "4b6be3bf-e5b1-443c-93f8-5aea1dd7dcdc",
   "metadata": {},
   "outputs": [],
   "source": [
    "DATA_DIR = \"/hkfs/work/workspace/scratch/bh6321-energy_challenge/data/train.csv\"\n",
    "DATA_DIR_DANIEL = \"./data/processed/\"\n",
    "TRAIN = \"train.csv\"\n",
    "VAL = \"valid.csv\""
   ]
  },
  {
   "cell_type": "code",
   "execution_count": 20,
   "id": "d702fc90-5ff3-496d-9df1-b9a9c4d9a585",
   "metadata": {},
   "outputs": [],
   "source": [
    "df = pd.read_csv(DATA_DIR_DANIEL+TRAIN)\n",
    "#df.rename(columns={\"Time [s]\":\"time\", \"Load [MWh]\": \"load\", \"City\": \"city\"}, inplace=True)\n",
    "#df[\"time\"] = pd.to_datetime(df[\"time\"])"
   ]
  },
  {
   "cell_type": "code",
   "execution_count": 21,
   "id": "d2c88340-63ce-4007-ba8b-fa13b50cf400",
   "metadata": {},
   "outputs": [],
   "source": [
    "CITIES = df.city.unique()"
   ]
  },
  {
   "cell_type": "code",
   "execution_count": 22,
   "id": "0716670b-27f0-4f17-be1c-c11eeaec3c36",
   "metadata": {},
   "outputs": [
    {
     "data": {
      "text/html": [
       "<div>\n",
       "<style scoped>\n",
       "    .dataframe tbody tr th:only-of-type {\n",
       "        vertical-align: middle;\n",
       "    }\n",
       "\n",
       "    .dataframe tbody tr th {\n",
       "        vertical-align: top;\n",
       "    }\n",
       "\n",
       "    .dataframe thead th {\n",
       "        text-align: right;\n",
       "    }\n",
       "</style>\n",
       "<table border=\"1\" class=\"dataframe\">\n",
       "  <thead>\n",
       "    <tr style=\"text-align: right;\">\n",
       "      <th></th>\n",
       "      <th>load</th>\n",
       "      <th>time</th>\n",
       "      <th>city</th>\n",
       "      <th>hour</th>\n",
       "      <th>day_name</th>\n",
       "      <th>weekday</th>\n",
       "      <th>day</th>\n",
       "      <th>month</th>\n",
       "      <th>year</th>\n",
       "      <th>dayofyear</th>\n",
       "      <th>...</th>\n",
       "      <th>month_cos</th>\n",
       "      <th>dayofyear_sin</th>\n",
       "      <th>dayofyear_cos</th>\n",
       "      <th>latitute</th>\n",
       "      <th>longitude</th>\n",
       "      <th>elevation</th>\n",
       "      <th>is_day</th>\n",
       "      <th>is_dusk</th>\n",
       "      <th>is_dawn</th>\n",
       "      <th>sun_position</th>\n",
       "    </tr>\n",
       "  </thead>\n",
       "  <tbody>\n",
       "    <tr>\n",
       "      <th>0</th>\n",
       "      <td>263.365956</td>\n",
       "      <td>2015-01-01 00:00:00</td>\n",
       "      <td>bs</td>\n",
       "      <td>0</td>\n",
       "      <td>Thursday</td>\n",
       "      <td>3</td>\n",
       "      <td>1</td>\n",
       "      <td>1</td>\n",
       "      <td>2015</td>\n",
       "      <td>1</td>\n",
       "      <td>...</td>\n",
       "      <td>0.866025</td>\n",
       "      <td>0.017213</td>\n",
       "      <td>0.999852</td>\n",
       "      <td>52.266667</td>\n",
       "      <td>10.516667</td>\n",
       "      <td>76.70401</td>\n",
       "      <td>0</td>\n",
       "      <td>0</td>\n",
       "      <td>0</td>\n",
       "      <td>-59.840175</td>\n",
       "    </tr>\n",
       "    <tr>\n",
       "      <th>1</th>\n",
       "      <td>259.073621</td>\n",
       "      <td>2015-01-01 01:00:00</td>\n",
       "      <td>bs</td>\n",
       "      <td>1</td>\n",
       "      <td>Thursday</td>\n",
       "      <td>3</td>\n",
       "      <td>1</td>\n",
       "      <td>1</td>\n",
       "      <td>2015</td>\n",
       "      <td>1</td>\n",
       "      <td>...</td>\n",
       "      <td>0.866025</td>\n",
       "      <td>0.017213</td>\n",
       "      <td>0.999852</td>\n",
       "      <td>52.266667</td>\n",
       "      <td>10.516667</td>\n",
       "      <td>76.70401</td>\n",
       "      <td>0</td>\n",
       "      <td>0</td>\n",
       "      <td>0</td>\n",
       "      <td>-55.195090</td>\n",
       "    </tr>\n",
       "    <tr>\n",
       "      <th>2</th>\n",
       "      <td>246.612481</td>\n",
       "      <td>2015-01-01 02:00:00</td>\n",
       "      <td>bs</td>\n",
       "      <td>2</td>\n",
       "      <td>Thursday</td>\n",
       "      <td>3</td>\n",
       "      <td>1</td>\n",
       "      <td>1</td>\n",
       "      <td>2015</td>\n",
       "      <td>1</td>\n",
       "      <td>...</td>\n",
       "      <td>0.866025</td>\n",
       "      <td>0.017213</td>\n",
       "      <td>0.999852</td>\n",
       "      <td>52.266667</td>\n",
       "      <td>10.516667</td>\n",
       "      <td>76.70401</td>\n",
       "      <td>0</td>\n",
       "      <td>0</td>\n",
       "      <td>0</td>\n",
       "      <td>-47.964556</td>\n",
       "    </tr>\n",
       "    <tr>\n",
       "      <th>3</th>\n",
       "      <td>238.313719</td>\n",
       "      <td>2015-01-01 03:00:00</td>\n",
       "      <td>bs</td>\n",
       "      <td>3</td>\n",
       "      <td>Thursday</td>\n",
       "      <td>3</td>\n",
       "      <td>1</td>\n",
       "      <td>1</td>\n",
       "      <td>2015</td>\n",
       "      <td>1</td>\n",
       "      <td>...</td>\n",
       "      <td>0.866025</td>\n",
       "      <td>0.017213</td>\n",
       "      <td>0.999852</td>\n",
       "      <td>52.266667</td>\n",
       "      <td>10.516667</td>\n",
       "      <td>76.70401</td>\n",
       "      <td>0</td>\n",
       "      <td>0</td>\n",
       "      <td>0</td>\n",
       "      <td>-39.408925</td>\n",
       "    </tr>\n",
       "    <tr>\n",
       "      <th>4</th>\n",
       "      <td>237.114390</td>\n",
       "      <td>2015-01-01 04:00:00</td>\n",
       "      <td>bs</td>\n",
       "      <td>4</td>\n",
       "      <td>Thursday</td>\n",
       "      <td>3</td>\n",
       "      <td>1</td>\n",
       "      <td>1</td>\n",
       "      <td>2015</td>\n",
       "      <td>1</td>\n",
       "      <td>...</td>\n",
       "      <td>0.866025</td>\n",
       "      <td>0.017213</td>\n",
       "      <td>0.999852</td>\n",
       "      <td>52.266667</td>\n",
       "      <td>10.516667</td>\n",
       "      <td>76.70401</td>\n",
       "      <td>0</td>\n",
       "      <td>0</td>\n",
       "      <td>0</td>\n",
       "      <td>-30.318257</td>\n",
       "    </tr>\n",
       "  </tbody>\n",
       "</table>\n",
       "<p>5 rows × 25 columns</p>\n",
       "</div>"
      ],
      "text/plain": [
       "         load                 time city  hour  day_name  weekday  day  month  \\\n",
       "0  263.365956  2015-01-01 00:00:00   bs     0  Thursday        3    1      1   \n",
       "1  259.073621  2015-01-01 01:00:00   bs     1  Thursday        3    1      1   \n",
       "2  246.612481  2015-01-01 02:00:00   bs     2  Thursday        3    1      1   \n",
       "3  238.313719  2015-01-01 03:00:00   bs     3  Thursday        3    1      1   \n",
       "4  237.114390  2015-01-01 04:00:00   bs     4  Thursday        3    1      1   \n",
       "\n",
       "   year  dayofyear  ...  month_cos  dayofyear_sin  dayofyear_cos   latitute  \\\n",
       "0  2015          1  ...   0.866025       0.017213       0.999852  52.266667   \n",
       "1  2015          1  ...   0.866025       0.017213       0.999852  52.266667   \n",
       "2  2015          1  ...   0.866025       0.017213       0.999852  52.266667   \n",
       "3  2015          1  ...   0.866025       0.017213       0.999852  52.266667   \n",
       "4  2015          1  ...   0.866025       0.017213       0.999852  52.266667   \n",
       "\n",
       "   longitude  elevation  is_day  is_dusk  is_dawn  sun_position  \n",
       "0  10.516667   76.70401       0        0        0    -59.840175  \n",
       "1  10.516667   76.70401       0        0        0    -55.195090  \n",
       "2  10.516667   76.70401       0        0        0    -47.964556  \n",
       "3  10.516667   76.70401       0        0        0    -39.408925  \n",
       "4  10.516667   76.70401       0        0        0    -30.318257  \n",
       "\n",
       "[5 rows x 25 columns]"
      ]
     },
     "execution_count": 22,
     "metadata": {},
     "output_type": "execute_result"
    }
   ],
   "source": [
    "df.head()"
   ]
  },
  {
   "cell_type": "code",
   "execution_count": 23,
   "id": "cdece9a3-c679-4388-8fc2-740c13323c06",
   "metadata": {},
   "outputs": [],
   "source": [
    "city_mapper = {'h': \"Hannover\", \n",
    "               'bs': \"Braunschweig\", \n",
    "               'ol': \"Oldenburg\", \n",
    "               'os': \"Osnabrück\", \n",
    "               'wob': \"Wolfsburg\", \n",
    "               'go': \"Göttingen\",\n",
    "               'sz': \"Salzgitter\", \n",
    "               'hi': \"Hildesheim\", \n",
    "               'del': \"Delmenhorst\", \n",
    "               'lg': \"Lüneburg\", \n",
    "               'whv': \"Wilhelmshaven\", \n",
    "               'ce': \"Celle\", \n",
    "               'hm': \"Hameln\", \n",
    "               'el': \"Lingen(Ems)\"\n",
    "              }"
   ]
  },
  {
   "cell_type": "markdown",
   "id": "e863f83a-1eb6-475b-9f48-89222204ff89",
   "metadata": {},
   "source": [
    "## Hourly Training"
   ]
  },
  {
   "cell_type": "code",
   "execution_count": 24,
   "id": "9c5fa473-b02e-4bff-a730-1235a56c3c2e",
   "metadata": {},
   "outputs": [
    {
     "name": "stderr",
     "output_type": "stream",
     "text": [
      "/software/all/jupyter/tensorflow/2022-01-11/lib/python3.8/site-packages/pandas/core/indexing.py:1667: SettingWithCopyWarning: \n",
      "A value is trying to be set on a copy of a slice from a DataFrame.\n",
      "Try using .loc[row_indexer,col_indexer] = value instead\n",
      "\n",
      "See the caveats in the documentation: https://pandas.pydata.org/pandas-docs/stable/user_guide/indexing.html#returning-a-view-versus-a-copy\n",
      "  self.obj[key] = value\n",
      "/software/all/jupyter/tensorflow/2022-01-11/lib/python3.8/site-packages/pandas/util/_decorators.py:311: SettingWithCopyWarning: \n",
      "A value is trying to be set on a copy of a slice from a DataFrame\n",
      "\n",
      "See the caveats in the documentation: https://pandas.pydata.org/pandas-docs/stable/user_guide/indexing.html#returning-a-view-versus-a-copy\n",
      "  return func(*args, **kwargs)\n"
     ]
    },
    {
     "data": {
      "text/html": [
       "<div>\n",
       "<style scoped>\n",
       "    .dataframe tbody tr th:only-of-type {\n",
       "        vertical-align: middle;\n",
       "    }\n",
       "\n",
       "    .dataframe tbody tr th {\n",
       "        vertical-align: top;\n",
       "    }\n",
       "\n",
       "    .dataframe thead th {\n",
       "        text-align: right;\n",
       "    }\n",
       "</style>\n",
       "<table border=\"1\" class=\"dataframe\">\n",
       "  <thead>\n",
       "    <tr style=\"text-align: right;\">\n",
       "      <th></th>\n",
       "      <th>load</th>\n",
       "      <th>time</th>\n",
       "      <th>city</th>\n",
       "      <th>hour</th>\n",
       "      <th>day_name</th>\n",
       "      <th>weekday</th>\n",
       "      <th>day</th>\n",
       "      <th>month</th>\n",
       "      <th>year</th>\n",
       "      <th>dayofyear</th>\n",
       "      <th>...</th>\n",
       "      <th>dayofyear_sin</th>\n",
       "      <th>dayofyear_cos</th>\n",
       "      <th>latitute</th>\n",
       "      <th>longitude</th>\n",
       "      <th>elevation</th>\n",
       "      <th>is_day</th>\n",
       "      <th>is_dusk</th>\n",
       "      <th>is_dawn</th>\n",
       "      <th>sun_position</th>\n",
       "      <th>y</th>\n",
       "    </tr>\n",
       "  </thead>\n",
       "  <tbody>\n",
       "    <tr>\n",
       "      <th>0</th>\n",
       "      <td>263.365956</td>\n",
       "      <td>2015-01-01 00:00:00</td>\n",
       "      <td>bs</td>\n",
       "      <td>0</td>\n",
       "      <td>Thursday</td>\n",
       "      <td>3</td>\n",
       "      <td>1</td>\n",
       "      <td>1</td>\n",
       "      <td>2015</td>\n",
       "      <td>1</td>\n",
       "      <td>...</td>\n",
       "      <td>0.017213</td>\n",
       "      <td>0.999852</td>\n",
       "      <td>52.266667</td>\n",
       "      <td>10.516667</td>\n",
       "      <td>76.70401</td>\n",
       "      <td>0</td>\n",
       "      <td>0</td>\n",
       "      <td>0</td>\n",
       "      <td>-59.840175</td>\n",
       "      <td>259.073621</td>\n",
       "    </tr>\n",
       "    <tr>\n",
       "      <th>1</th>\n",
       "      <td>259.073621</td>\n",
       "      <td>2015-01-01 01:00:00</td>\n",
       "      <td>bs</td>\n",
       "      <td>1</td>\n",
       "      <td>Thursday</td>\n",
       "      <td>3</td>\n",
       "      <td>1</td>\n",
       "      <td>1</td>\n",
       "      <td>2015</td>\n",
       "      <td>1</td>\n",
       "      <td>...</td>\n",
       "      <td>0.017213</td>\n",
       "      <td>0.999852</td>\n",
       "      <td>52.266667</td>\n",
       "      <td>10.516667</td>\n",
       "      <td>76.70401</td>\n",
       "      <td>0</td>\n",
       "      <td>0</td>\n",
       "      <td>0</td>\n",
       "      <td>-55.195090</td>\n",
       "      <td>246.612481</td>\n",
       "    </tr>\n",
       "    <tr>\n",
       "      <th>2</th>\n",
       "      <td>246.612481</td>\n",
       "      <td>2015-01-01 02:00:00</td>\n",
       "      <td>bs</td>\n",
       "      <td>2</td>\n",
       "      <td>Thursday</td>\n",
       "      <td>3</td>\n",
       "      <td>1</td>\n",
       "      <td>1</td>\n",
       "      <td>2015</td>\n",
       "      <td>1</td>\n",
       "      <td>...</td>\n",
       "      <td>0.017213</td>\n",
       "      <td>0.999852</td>\n",
       "      <td>52.266667</td>\n",
       "      <td>10.516667</td>\n",
       "      <td>76.70401</td>\n",
       "      <td>0</td>\n",
       "      <td>0</td>\n",
       "      <td>0</td>\n",
       "      <td>-47.964556</td>\n",
       "      <td>238.313719</td>\n",
       "    </tr>\n",
       "    <tr>\n",
       "      <th>3</th>\n",
       "      <td>238.313719</td>\n",
       "      <td>2015-01-01 03:00:00</td>\n",
       "      <td>bs</td>\n",
       "      <td>3</td>\n",
       "      <td>Thursday</td>\n",
       "      <td>3</td>\n",
       "      <td>1</td>\n",
       "      <td>1</td>\n",
       "      <td>2015</td>\n",
       "      <td>1</td>\n",
       "      <td>...</td>\n",
       "      <td>0.017213</td>\n",
       "      <td>0.999852</td>\n",
       "      <td>52.266667</td>\n",
       "      <td>10.516667</td>\n",
       "      <td>76.70401</td>\n",
       "      <td>0</td>\n",
       "      <td>0</td>\n",
       "      <td>0</td>\n",
       "      <td>-39.408925</td>\n",
       "      <td>237.114390</td>\n",
       "    </tr>\n",
       "    <tr>\n",
       "      <th>4</th>\n",
       "      <td>237.114390</td>\n",
       "      <td>2015-01-01 04:00:00</td>\n",
       "      <td>bs</td>\n",
       "      <td>4</td>\n",
       "      <td>Thursday</td>\n",
       "      <td>3</td>\n",
       "      <td>1</td>\n",
       "      <td>1</td>\n",
       "      <td>2015</td>\n",
       "      <td>1</td>\n",
       "      <td>...</td>\n",
       "      <td>0.017213</td>\n",
       "      <td>0.999852</td>\n",
       "      <td>52.266667</td>\n",
       "      <td>10.516667</td>\n",
       "      <td>76.70401</td>\n",
       "      <td>0</td>\n",
       "      <td>0</td>\n",
       "      <td>0</td>\n",
       "      <td>-30.318257</td>\n",
       "      <td>237.344602</td>\n",
       "    </tr>\n",
       "  </tbody>\n",
       "</table>\n",
       "<p>5 rows × 26 columns</p>\n",
       "</div>"
      ],
      "text/plain": [
       "         load                 time city  hour  day_name  weekday  day  month  \\\n",
       "0  263.365956  2015-01-01 00:00:00   bs     0  Thursday        3    1      1   \n",
       "1  259.073621  2015-01-01 01:00:00   bs     1  Thursday        3    1      1   \n",
       "2  246.612481  2015-01-01 02:00:00   bs     2  Thursday        3    1      1   \n",
       "3  238.313719  2015-01-01 03:00:00   bs     3  Thursday        3    1      1   \n",
       "4  237.114390  2015-01-01 04:00:00   bs     4  Thursday        3    1      1   \n",
       "\n",
       "   year  dayofyear  ...  dayofyear_sin  dayofyear_cos   latitute  longitude  \\\n",
       "0  2015          1  ...       0.017213       0.999852  52.266667  10.516667   \n",
       "1  2015          1  ...       0.017213       0.999852  52.266667  10.516667   \n",
       "2  2015          1  ...       0.017213       0.999852  52.266667  10.516667   \n",
       "3  2015          1  ...       0.017213       0.999852  52.266667  10.516667   \n",
       "4  2015          1  ...       0.017213       0.999852  52.266667  10.516667   \n",
       "\n",
       "   elevation  is_day  is_dusk  is_dawn  sun_position           y  \n",
       "0   76.70401       0        0        0    -59.840175  259.073621  \n",
       "1   76.70401       0        0        0    -55.195090  246.612481  \n",
       "2   76.70401       0        0        0    -47.964556  238.313719  \n",
       "3   76.70401       0        0        0    -39.408925  237.114390  \n",
       "4   76.70401       0        0        0    -30.318257  237.344602  \n",
       "\n",
       "[5 rows x 26 columns]"
      ]
     },
     "execution_count": 24,
     "metadata": {},
     "output_type": "execute_result"
    }
   ],
   "source": [
    "df_tmp_list = []\n",
    "for city in CITIES:\n",
    "    df_tmp = df.loc[df.city == city,:]\n",
    "    df_tmp.loc[:,\"y\"] = df_tmp.loc[:,\"load\"].shift(-1)\n",
    "    df_tmp.dropna(inplace=True)\n",
    "    df_tmp_list.append(df_tmp)\n",
    "df_y = pd.concat(df_tmp_list)\n",
    "df_y.head()"
   ]
  },
  {
   "cell_type": "markdown",
   "id": "9c118384-4c44-458f-b742-a28cf9ffa70e",
   "metadata": {},
   "source": [
    "df_y = pd.get_dummies(df_y, columns=[\"city\",])"
   ]
  },
  {
   "cell_type": "code",
   "execution_count": 33,
   "id": "38e3c22a-1898-4bb9-8c65-e85150eb2833",
   "metadata": {},
   "outputs": [],
   "source": [
    "df = df_tmp_list[0]"
   ]
  },
  {
   "cell_type": "code",
   "execution_count": 34,
   "id": "b49bfe92-da13-4aab-a45e-a1ac684896e0",
   "metadata": {},
   "outputs": [
    {
     "data": {
      "text/html": [
       "<div>\n",
       "<style scoped>\n",
       "    .dataframe tbody tr th:only-of-type {\n",
       "        vertical-align: middle;\n",
       "    }\n",
       "\n",
       "    .dataframe tbody tr th {\n",
       "        vertical-align: top;\n",
       "    }\n",
       "\n",
       "    .dataframe thead th {\n",
       "        text-align: right;\n",
       "    }\n",
       "</style>\n",
       "<table border=\"1\" class=\"dataframe\">\n",
       "  <thead>\n",
       "    <tr style=\"text-align: right;\">\n",
       "      <th></th>\n",
       "      <th>load</th>\n",
       "      <th>hour</th>\n",
       "      <th>weekday</th>\n",
       "      <th>day</th>\n",
       "      <th>month</th>\n",
       "      <th>year</th>\n",
       "      <th>dayofyear</th>\n",
       "      <th>hour_sin</th>\n",
       "      <th>hour_cos</th>\n",
       "      <th>day_sin</th>\n",
       "      <th>...</th>\n",
       "      <th>dayofyear_sin</th>\n",
       "      <th>dayofyear_cos</th>\n",
       "      <th>latitute</th>\n",
       "      <th>longitude</th>\n",
       "      <th>elevation</th>\n",
       "      <th>is_day</th>\n",
       "      <th>is_dusk</th>\n",
       "      <th>is_dawn</th>\n",
       "      <th>sun_position</th>\n",
       "      <th>y</th>\n",
       "    </tr>\n",
       "  </thead>\n",
       "  <tbody>\n",
       "    <tr>\n",
       "      <th>0</th>\n",
       "      <td>NaN</td>\n",
       "      <td>NaN</td>\n",
       "      <td>NaN</td>\n",
       "      <td>NaN</td>\n",
       "      <td>NaN</td>\n",
       "      <td>NaN</td>\n",
       "      <td>NaN</td>\n",
       "      <td>NaN</td>\n",
       "      <td>NaN</td>\n",
       "      <td>NaN</td>\n",
       "      <td>...</td>\n",
       "      <td>NaN</td>\n",
       "      <td>NaN</td>\n",
       "      <td>NaN</td>\n",
       "      <td>NaN</td>\n",
       "      <td>NaN</td>\n",
       "      <td>NaN</td>\n",
       "      <td>NaN</td>\n",
       "      <td>NaN</td>\n",
       "      <td>NaN</td>\n",
       "      <td>NaN</td>\n",
       "    </tr>\n",
       "    <tr>\n",
       "      <th>1</th>\n",
       "      <td>NaN</td>\n",
       "      <td>NaN</td>\n",
       "      <td>NaN</td>\n",
       "      <td>NaN</td>\n",
       "      <td>NaN</td>\n",
       "      <td>NaN</td>\n",
       "      <td>NaN</td>\n",
       "      <td>NaN</td>\n",
       "      <td>NaN</td>\n",
       "      <td>NaN</td>\n",
       "      <td>...</td>\n",
       "      <td>NaN</td>\n",
       "      <td>NaN</td>\n",
       "      <td>NaN</td>\n",
       "      <td>NaN</td>\n",
       "      <td>NaN</td>\n",
       "      <td>NaN</td>\n",
       "      <td>NaN</td>\n",
       "      <td>NaN</td>\n",
       "      <td>NaN</td>\n",
       "      <td>NaN</td>\n",
       "    </tr>\n",
       "    <tr>\n",
       "      <th>2</th>\n",
       "      <td>NaN</td>\n",
       "      <td>NaN</td>\n",
       "      <td>NaN</td>\n",
       "      <td>NaN</td>\n",
       "      <td>NaN</td>\n",
       "      <td>NaN</td>\n",
       "      <td>NaN</td>\n",
       "      <td>NaN</td>\n",
       "      <td>NaN</td>\n",
       "      <td>NaN</td>\n",
       "      <td>...</td>\n",
       "      <td>NaN</td>\n",
       "      <td>NaN</td>\n",
       "      <td>NaN</td>\n",
       "      <td>NaN</td>\n",
       "      <td>NaN</td>\n",
       "      <td>NaN</td>\n",
       "      <td>NaN</td>\n",
       "      <td>NaN</td>\n",
       "      <td>NaN</td>\n",
       "      <td>NaN</td>\n",
       "    </tr>\n",
       "    <tr>\n",
       "      <th>3</th>\n",
       "      <td>NaN</td>\n",
       "      <td>NaN</td>\n",
       "      <td>NaN</td>\n",
       "      <td>NaN</td>\n",
       "      <td>NaN</td>\n",
       "      <td>NaN</td>\n",
       "      <td>NaN</td>\n",
       "      <td>NaN</td>\n",
       "      <td>NaN</td>\n",
       "      <td>NaN</td>\n",
       "      <td>...</td>\n",
       "      <td>NaN</td>\n",
       "      <td>NaN</td>\n",
       "      <td>NaN</td>\n",
       "      <td>NaN</td>\n",
       "      <td>NaN</td>\n",
       "      <td>NaN</td>\n",
       "      <td>NaN</td>\n",
       "      <td>NaN</td>\n",
       "      <td>NaN</td>\n",
       "      <td>NaN</td>\n",
       "    </tr>\n",
       "    <tr>\n",
       "      <th>4</th>\n",
       "      <td>NaN</td>\n",
       "      <td>NaN</td>\n",
       "      <td>NaN</td>\n",
       "      <td>NaN</td>\n",
       "      <td>NaN</td>\n",
       "      <td>NaN</td>\n",
       "      <td>NaN</td>\n",
       "      <td>NaN</td>\n",
       "      <td>NaN</td>\n",
       "      <td>NaN</td>\n",
       "      <td>...</td>\n",
       "      <td>NaN</td>\n",
       "      <td>NaN</td>\n",
       "      <td>NaN</td>\n",
       "      <td>NaN</td>\n",
       "      <td>NaN</td>\n",
       "      <td>NaN</td>\n",
       "      <td>NaN</td>\n",
       "      <td>NaN</td>\n",
       "      <td>NaN</td>\n",
       "      <td>NaN</td>\n",
       "    </tr>\n",
       "    <tr>\n",
       "      <th>...</th>\n",
       "      <td>...</td>\n",
       "      <td>...</td>\n",
       "      <td>...</td>\n",
       "      <td>...</td>\n",
       "      <td>...</td>\n",
       "      <td>...</td>\n",
       "      <td>...</td>\n",
       "      <td>...</td>\n",
       "      <td>...</td>\n",
       "      <td>...</td>\n",
       "      <td>...</td>\n",
       "      <td>...</td>\n",
       "      <td>...</td>\n",
       "      <td>...</td>\n",
       "      <td>...</td>\n",
       "      <td>...</td>\n",
       "      <td>...</td>\n",
       "      <td>...</td>\n",
       "      <td>...</td>\n",
       "      <td>...</td>\n",
       "      <td>...</td>\n",
       "    </tr>\n",
       "    <tr>\n",
       "      <th>26298</th>\n",
       "      <td>203.806092</td>\n",
       "      <td>12.5</td>\n",
       "      <td>6.0</td>\n",
       "      <td>31.0</td>\n",
       "      <td>12.0</td>\n",
       "      <td>2017.0</td>\n",
       "      <td>365.0</td>\n",
       "      <td>-0.164729</td>\n",
       "      <td>-0.587927</td>\n",
       "      <td>-2.449294e-16</td>\n",
       "      <td>...</td>\n",
       "      <td>6.432491e-16</td>\n",
       "      <td>1.0</td>\n",
       "      <td>52.266667</td>\n",
       "      <td>10.516667</td>\n",
       "      <td>76.70401</td>\n",
       "      <td>0.750000</td>\n",
       "      <td>0.166667</td>\n",
       "      <td>0.166667</td>\n",
       "      <td>2.121865</td>\n",
       "      <td>205.568573</td>\n",
       "    </tr>\n",
       "    <tr>\n",
       "      <th>26299</th>\n",
       "      <td>205.568573</td>\n",
       "      <td>13.5</td>\n",
       "      <td>6.0</td>\n",
       "      <td>31.0</td>\n",
       "      <td>12.0</td>\n",
       "      <td>2017.0</td>\n",
       "      <td>365.0</td>\n",
       "      <td>-0.317242</td>\n",
       "      <td>-0.521682</td>\n",
       "      <td>-2.449294e-16</td>\n",
       "      <td>...</td>\n",
       "      <td>6.432491e-16</td>\n",
       "      <td>1.0</td>\n",
       "      <td>52.266667</td>\n",
       "      <td>10.516667</td>\n",
       "      <td>76.70401</td>\n",
       "      <td>0.666667</td>\n",
       "      <td>0.166667</td>\n",
       "      <td>0.083333</td>\n",
       "      <td>-0.398752</td>\n",
       "      <td>206.225481</td>\n",
       "    </tr>\n",
       "    <tr>\n",
       "      <th>26300</th>\n",
       "      <td>206.225481</td>\n",
       "      <td>14.5</td>\n",
       "      <td>6.0</td>\n",
       "      <td>31.0</td>\n",
       "      <td>12.0</td>\n",
       "      <td>2017.0</td>\n",
       "      <td>365.0</td>\n",
       "      <td>-0.446225</td>\n",
       "      <td>-0.416745</td>\n",
       "      <td>-2.449294e-16</td>\n",
       "      <td>...</td>\n",
       "      <td>6.432491e-16</td>\n",
       "      <td>1.0</td>\n",
       "      <td>52.266667</td>\n",
       "      <td>10.516667</td>\n",
       "      <td>76.70401</td>\n",
       "      <td>0.583333</td>\n",
       "      <td>0.166667</td>\n",
       "      <td>0.000000</td>\n",
       "      <td>-4.158105</td>\n",
       "      <td>206.990378</td>\n",
       "    </tr>\n",
       "    <tr>\n",
       "      <th>26301</th>\n",
       "      <td>206.990378</td>\n",
       "      <td>15.5</td>\n",
       "      <td>6.0</td>\n",
       "      <td>31.0</td>\n",
       "      <td>12.0</td>\n",
       "      <td>2017.0</td>\n",
       "      <td>365.0</td>\n",
       "      <td>-0.542115</td>\n",
       "      <td>-0.280901</td>\n",
       "      <td>-2.449294e-16</td>\n",
       "      <td>...</td>\n",
       "      <td>6.432491e-16</td>\n",
       "      <td>1.0</td>\n",
       "      <td>52.266667</td>\n",
       "      <td>10.516667</td>\n",
       "      <td>76.70401</td>\n",
       "      <td>0.500000</td>\n",
       "      <td>0.166667</td>\n",
       "      <td>0.000000</td>\n",
       "      <td>-9.074033</td>\n",
       "      <td>208.199299</td>\n",
       "    </tr>\n",
       "    <tr>\n",
       "      <th>26302</th>\n",
       "      <td>208.199299</td>\n",
       "      <td>16.5</td>\n",
       "      <td>6.0</td>\n",
       "      <td>31.0</td>\n",
       "      <td>12.0</td>\n",
       "      <td>2017.0</td>\n",
       "      <td>365.0</td>\n",
       "      <td>-0.597798</td>\n",
       "      <td>-0.124224</td>\n",
       "      <td>-2.449294e-16</td>\n",
       "      <td>...</td>\n",
       "      <td>6.432491e-16</td>\n",
       "      <td>1.0</td>\n",
       "      <td>52.266667</td>\n",
       "      <td>10.516667</td>\n",
       "      <td>76.70401</td>\n",
       "      <td>0.416667</td>\n",
       "      <td>0.166667</td>\n",
       "      <td>0.000000</td>\n",
       "      <td>-14.871472</td>\n",
       "      <td>208.482113</td>\n",
       "    </tr>\n",
       "  </tbody>\n",
       "</table>\n",
       "<p>26303 rows × 23 columns</p>\n",
       "</div>"
      ],
      "text/plain": [
       "             load  hour  weekday   day  month    year  dayofyear  hour_sin  \\\n",
       "0             NaN   NaN      NaN   NaN    NaN     NaN        NaN       NaN   \n",
       "1             NaN   NaN      NaN   NaN    NaN     NaN        NaN       NaN   \n",
       "2             NaN   NaN      NaN   NaN    NaN     NaN        NaN       NaN   \n",
       "3             NaN   NaN      NaN   NaN    NaN     NaN        NaN       NaN   \n",
       "4             NaN   NaN      NaN   NaN    NaN     NaN        NaN       NaN   \n",
       "...           ...   ...      ...   ...    ...     ...        ...       ...   \n",
       "26298  203.806092  12.5      6.0  31.0   12.0  2017.0      365.0 -0.164729   \n",
       "26299  205.568573  13.5      6.0  31.0   12.0  2017.0      365.0 -0.317242   \n",
       "26300  206.225481  14.5      6.0  31.0   12.0  2017.0      365.0 -0.446225   \n",
       "26301  206.990378  15.5      6.0  31.0   12.0  2017.0      365.0 -0.542115   \n",
       "26302  208.199299  16.5      6.0  31.0   12.0  2017.0      365.0 -0.597798   \n",
       "\n",
       "       hour_cos       day_sin  ...  dayofyear_sin  dayofyear_cos   latitute  \\\n",
       "0           NaN           NaN  ...            NaN            NaN        NaN   \n",
       "1           NaN           NaN  ...            NaN            NaN        NaN   \n",
       "2           NaN           NaN  ...            NaN            NaN        NaN   \n",
       "3           NaN           NaN  ...            NaN            NaN        NaN   \n",
       "4           NaN           NaN  ...            NaN            NaN        NaN   \n",
       "...         ...           ...  ...            ...            ...        ...   \n",
       "26298 -0.587927 -2.449294e-16  ...   6.432491e-16            1.0  52.266667   \n",
       "26299 -0.521682 -2.449294e-16  ...   6.432491e-16            1.0  52.266667   \n",
       "26300 -0.416745 -2.449294e-16  ...   6.432491e-16            1.0  52.266667   \n",
       "26301 -0.280901 -2.449294e-16  ...   6.432491e-16            1.0  52.266667   \n",
       "26302 -0.124224 -2.449294e-16  ...   6.432491e-16            1.0  52.266667   \n",
       "\n",
       "       longitude  elevation    is_day   is_dusk   is_dawn  sun_position  \\\n",
       "0            NaN        NaN       NaN       NaN       NaN           NaN   \n",
       "1            NaN        NaN       NaN       NaN       NaN           NaN   \n",
       "2            NaN        NaN       NaN       NaN       NaN           NaN   \n",
       "3            NaN        NaN       NaN       NaN       NaN           NaN   \n",
       "4            NaN        NaN       NaN       NaN       NaN           NaN   \n",
       "...          ...        ...       ...       ...       ...           ...   \n",
       "26298  10.516667   76.70401  0.750000  0.166667  0.166667      2.121865   \n",
       "26299  10.516667   76.70401  0.666667  0.166667  0.083333     -0.398752   \n",
       "26300  10.516667   76.70401  0.583333  0.166667  0.000000     -4.158105   \n",
       "26301  10.516667   76.70401  0.500000  0.166667  0.000000     -9.074033   \n",
       "26302  10.516667   76.70401  0.416667  0.166667  0.000000    -14.871472   \n",
       "\n",
       "                y  \n",
       "0             NaN  \n",
       "1             NaN  \n",
       "2             NaN  \n",
       "3             NaN  \n",
       "4             NaN  \n",
       "...           ...  \n",
       "26298  205.568573  \n",
       "26299  206.225481  \n",
       "26300  206.990378  \n",
       "26301  208.199299  \n",
       "26302  208.482113  \n",
       "\n",
       "[26303 rows x 23 columns]"
      ]
     },
     "execution_count": 34,
     "metadata": {},
     "output_type": "execute_result"
    }
   ],
   "source": [
    "df.rolling(12).mean()"
   ]
  },
  {
   "cell_type": "code",
   "execution_count": 25,
   "id": "3608a86e-8fa7-4b96-91cd-6f7f0408fe36",
   "metadata": {},
   "outputs": [],
   "source": [
    "FEATURES = list(df_y.columns)\n",
    "FEATURES.remove(\"y\")\n",
    "FEATURES.remove(\"day_name\")\n",
    "FEATURES.remove(\"city\")\n",
    "FEATURES.remove(\"time\")"
   ]
  },
  {
   "cell_type": "code",
   "execution_count": 26,
   "id": "099ad83e-5b87-416d-8dee-d11cae57dd7b",
   "metadata": {},
   "outputs": [
    {
     "data": {
      "text/plain": [
       "load             float64\n",
       "time              object\n",
       "city              object\n",
       "hour               int64\n",
       "day_name          object\n",
       "weekday            int64\n",
       "day                int64\n",
       "month              int64\n",
       "year               int64\n",
       "dayofyear          int64\n",
       "hour_sin         float64\n",
       "hour_cos         float64\n",
       "day_sin          float64\n",
       "day_cos          float64\n",
       "month_sin        float64\n",
       "month_cos        float64\n",
       "dayofyear_sin    float64\n",
       "dayofyear_cos    float64\n",
       "latitute         float64\n",
       "longitude        float64\n",
       "elevation        float64\n",
       "is_day             int64\n",
       "is_dusk            int64\n",
       "is_dawn            int64\n",
       "sun_position     float64\n",
       "y                float64\n",
       "dtype: object"
      ]
     },
     "execution_count": 26,
     "metadata": {},
     "output_type": "execute_result"
    }
   ],
   "source": [
    "df_y.dtypes"
   ]
  },
  {
   "cell_type": "code",
   "execution_count": 27,
   "id": "91e77316-d9e0-45ec-8ee1-b033bdf64fc0",
   "metadata": {},
   "outputs": [
    {
     "data": {
      "text/plain": [
       "(26303, 26)"
      ]
     },
     "execution_count": 27,
     "metadata": {},
     "output_type": "execute_result"
    }
   ],
   "source": [
    "df_tmp_list[0].shape"
   ]
  },
  {
   "cell_type": "code",
   "execution_count": 28,
   "id": "7ff74e9d-3e8a-4466-aa44-7260f9980b7e",
   "metadata": {},
   "outputs": [],
   "source": [
    "from sklearn.ensemble import RandomForestRegressor"
   ]
  },
  {
   "cell_type": "code",
   "execution_count": 30,
   "id": "0decf6df-b7e4-475e-951b-eba0a9498de9",
   "metadata": {
    "scrolled": true,
    "tags": []
   },
   "outputs": [
    {
     "name": "stdout",
     "output_type": "stream",
     "text": [
      "City:  bs\n",
      "City:  h\n",
      "City:  hm\n",
      "City:  ol\n",
      "City:  del\n",
      "City:  el\n",
      "City:  os\n",
      "City:  wob\n",
      "City:  hi\n",
      "City:  whv\n",
      "City:  lg\n",
      "City:  ce\n",
      "City:  go\n",
      "City:  sz\n"
     ]
    }
   ],
   "source": [
    "regressors = {}\n",
    "\n",
    "for df_tmp in df_tmp_list:\n",
    "    \n",
    "    city = df_tmp.city.unique()[0]\n",
    "    \n",
    "    print(\"City: \", city)\n",
    "    \n",
    "    X = df_tmp[FEATURES]\n",
    "    y = df_tmp[\"y\"]\n",
    "    \n",
    "    regr = RandomForestRegressor(n_estimators=2000,\n",
    "                                 max_depth=20, \n",
    "                                 criterion=\"squared_error\",\n",
    "                                 max_features=\"sqrt\",\n",
    "                                 random_state=7531,\n",
    "                                 oob_score=False,\n",
    "                                 n_jobs=-1)\n",
    "    \n",
    "    regr.fit(X,y)\n",
    "    \n",
    "    regressors[city] = regr\n",
    "\n",
    "print(\"DONE\")"
   ]
  },
  {
   "cell_type": "code",
   "execution_count": null,
   "id": "6731a2a2-2ad6-4358-802c-46c11a920513",
   "metadata": {},
   "outputs": [],
   "source": [
    "def predict_loop(model, X, horizon=7*24):\n",
    "    predictions = []\n",
    "    \n",
    "    for h in range(horizon):\n",
    "        pred = model.predict(X)\n",
    "        predictions.append(pred)\n",
    "        \n",
    "        X[\"load\"] = pred\n",
    "    \n",
    "    return predictions"
   ]
  },
  {
   "cell_type": "code",
   "execution_count": 32,
   "id": "9f3f7089-ce71-4ca4-b974-a032c7f4a4d8",
   "metadata": {},
   "outputs": [
    {
     "data": {
      "text/plain": [
       "(168,)"
      ]
     },
     "execution_count": 32,
     "metadata": {},
     "output_type": "execute_result"
    }
   ],
   "source": [
    "np.zeros(168).shape"
   ]
  },
  {
   "cell_type": "code",
   "execution_count": null,
   "id": "a887f476-4dae-458b-b0bd-3e63db2da1ba",
   "metadata": {},
   "outputs": [],
   "source": []
  },
  {
   "cell_type": "code",
   "execution_count": null,
   "id": "1f75680c-5da3-4fe2-b7f9-3e7ead008f3c",
   "metadata": {},
   "outputs": [],
   "source": []
  },
  {
   "cell_type": "code",
   "execution_count": null,
   "id": "66c69b2e-f9c4-4f65-854d-66d384a0e49b",
   "metadata": {},
   "outputs": [],
   "source": []
  },
  {
   "cell_type": "code",
   "execution_count": null,
   "id": "331bba46-d904-4775-adf1-9ae5195dda32",
   "metadata": {},
   "outputs": [],
   "source": []
  },
  {
   "cell_type": "code",
   "execution_count": null,
   "id": "b007d5c0-fc12-4275-98ed-004f514deb69",
   "metadata": {},
   "outputs": [],
   "source": []
  },
  {
   "cell_type": "code",
   "execution_count": null,
   "id": "923b1b72-ae5c-4ede-af8f-eb0ddf5e1e09",
   "metadata": {},
   "outputs": [],
   "source": []
  },
  {
   "cell_type": "code",
   "execution_count": null,
   "id": "1767517d-5078-4028-b8d9-145acfd7b2bb",
   "metadata": {},
   "outputs": [],
   "source": []
  },
  {
   "cell_type": "code",
   "execution_count": null,
   "id": "add35d14-5469-4c7e-ab89-72ae6dc77b1f",
   "metadata": {},
   "outputs": [],
   "source": []
  },
  {
   "cell_type": "code",
   "execution_count": null,
   "id": "2d1602b4-12bf-42d3-ab02-760df069ecd7",
   "metadata": {},
   "outputs": [],
   "source": []
  },
  {
   "cell_type": "code",
   "execution_count": 64,
   "id": "c17ac40a-c50f-4305-9344-e576f4bf6b44",
   "metadata": {},
   "outputs": [],
   "source": [
    "n = 200000\n",
    "X = df_y[FEATURES][:n]\n",
    "y = df_y[\"y\"][:n]"
   ]
  },
  {
   "cell_type": "code",
   "execution_count": 12,
   "id": "ec2b9e40-11bd-4a09-936b-ffd765b81313",
   "metadata": {},
   "outputs": [],
   "source": []
  },
  {
   "cell_type": "code",
   "execution_count": 27,
   "id": "4be4bb39-a333-4f7c-89a7-f8f6b5ee9a19",
   "metadata": {},
   "outputs": [],
   "source": [
    "from sklearn.datasets import make_regression\n",
    "X,y = make_regression(n_samples=50000, n_features=20, n_informative=10)"
   ]
  },
  {
   "cell_type": "code",
   "execution_count": 28,
   "id": "9da174ba-7e48-426e-8dbd-79e4ad24213c",
   "metadata": {},
   "outputs": [
    {
     "data": {
      "text/plain": [
       "152"
      ]
     },
     "execution_count": 28,
     "metadata": {},
     "output_type": "execute_result"
    }
   ],
   "source": [
    "import multiprocessing\n",
    "multiprocessing.cpu_count()"
   ]
  },
  {
   "cell_type": "code",
   "execution_count": 30,
   "id": "8481d2b1-d7f0-4bcd-a7d6-d1f3d1db69bd",
   "metadata": {},
   "outputs": [
    {
     "data": {
      "text/plain": [
       "3665"
      ]
     },
     "execution_count": 30,
     "metadata": {},
     "output_type": "execute_result"
    }
   ],
   "source": [
    "import gc\n",
    "gc.collect()"
   ]
  },
  {
   "cell_type": "code",
   "execution_count": 19,
   "id": "efd7070a-0be8-40d9-80dc-51bf02a56dc0",
   "metadata": {},
   "outputs": [],
   "source": [
    "from sklearn.pipeline import make_pipeline\n",
    "from sklearn.preprocessing import StandardScaler"
   ]
  },
  {
   "cell_type": "code",
   "execution_count": 35,
   "id": "4dc86ea8-be8c-4511-90ce-40a6b36577df",
   "metadata": {},
   "outputs": [
    {
     "data": {
      "text/plain": [
       "XGBRegressor(base_score=None, booster=None, colsample_bylevel=None,\n",
       "             colsample_bynode=None, colsample_bytree=0.049,\n",
       "             enable_categorical=False, gamma=None, gpu_id=None,\n",
       "             importance_type=None, interaction_constraints=None,\n",
       "             learning_rate=0.0113, max_delta_step=None, max_depth=9,\n",
       "             min_child_weight=31.0, missing=nan, monotone_constraints=None,\n",
       "             n_estimators=5000, n_jobs=None, num_parallel_tree=None,\n",
       "             predictor=None, random_state=None, reg_alpha=None, reg_lambda=2.0,\n",
       "             scale_pos_weight=None, subsample=0.8, tree_method=None,\n",
       "             validate_parameters=None, verbosity=None)"
      ]
     },
     "execution_count": 35,
     "metadata": {},
     "output_type": "execute_result"
    }
   ],
   "source": [
    "import xgboost as xgb\n",
    "from xgboost import XGBRegressor\n",
    "\n",
    "xgbr = XGBRegressor(objective='reg:squarederror')\n",
    "#xgb.fit(X_train, y_train)\n",
    "\n",
    "pipe_xgb = make_pipeline(StandardScaler(), xgbr)\n",
    "\n",
    "# with open(\"results/demand_xgboost_hyperopt_2021-02-24T01-19-23.json\", \"r\") as f:\n",
    "#     params = json.load(f)\n",
    "params_1 = {\"xgbregressor__colsample_bytree\": 0.022073333648539202, \n",
    "            \"xgbregressor__learning_rate\": 0.06012540666679903, \n",
    "            \"xgbregressor__max_depth\": 4, \n",
    "            \"xgbregressor__min_child_weight\": 6.337892352836798, \n",
    "            \"xgbregressor__n_estimators\": 10946, \n",
    "            \"xgbregressor__reg_lambda\": 1.3566888572323035, \n",
    "            \"xgbregressor__subsample\": 0.8941866568313804}\n",
    "\n",
    "params_2 = {'xgbregressor__colsample_bytree': 0.0867, \n",
    "            'xgbregressor__learning_rate': 0.0845651857308635, \n",
    "            'xgbregressor__max_depth': 21, \n",
    "            'xgbregressor__min_child_weight': 15.0, \n",
    "            'xgbregressor__n_estimators': 9779, \n",
    "            'xgbregressor__reg_lambda': 2.1318018187083574, \n",
    "            'xgbregressor__subsample': 0.91}\n",
    "\n",
    "params_3 = {'colsample_bytree': 0.049, \n",
    "             'learning_rate': 0.0113, \n",
    "             'max_depth': 9, \n",
    "             'min_child_weight': 31., \n",
    "             'n_estimators': 5000, \n",
    "             'reg_lambda': 2., \n",
    "             'subsample': 0.8}\n",
    "\n",
    "xgbr.set_params(**params_3)"
   ]
  },
  {
   "cell_type": "code",
   "execution_count": 36,
   "id": "7a186aab-c16b-404d-9b99-59522fee0c33",
   "metadata": {},
   "outputs": [
    {
     "data": {
      "text/plain": [
       "XGBRegressor(base_score=0.5, booster='gbtree', colsample_bylevel=1,\n",
       "             colsample_bynode=1, colsample_bytree=0.049,\n",
       "             enable_categorical=False, gamma=0, gpu_id=-1, importance_type=None,\n",
       "             interaction_constraints='', learning_rate=0.0113, max_delta_step=0,\n",
       "             max_depth=9, min_child_weight=31.0, missing=nan,\n",
       "             monotone_constraints='()', n_estimators=5000, n_jobs=76,\n",
       "             num_parallel_tree=1, predictor='auto', random_state=0, reg_alpha=0,\n",
       "             reg_lambda=2.0, scale_pos_weight=1, subsample=0.8,\n",
       "             tree_method='exact', validate_parameters=1, verbosity=None)"
      ]
     },
     "execution_count": 36,
     "metadata": {},
     "output_type": "execute_result"
    }
   ],
   "source": [
    "xgbr.fit(X, y)"
   ]
  },
  {
   "cell_type": "code",
   "execution_count": 42,
   "id": "7e65333f-4297-451b-87ce-6440185c9f76",
   "metadata": {},
   "outputs": [],
   "source": [
    "regr = RandomForestRegressor(n_estimators=1000,\n",
    "                             max_depth=5, \n",
    "                             criterion=\"mse\",\n",
    "                             max_features=\"sqrt\",\n",
    "                             random_state=7531,\n",
    "                             oob_score=False,\n",
    "                             n_jobs=-1)"
   ]
  },
  {
   "cell_type": "code",
   "execution_count": 43,
   "id": "54b4e913-af19-41a0-927a-763eba284631",
   "metadata": {},
   "outputs": [
    {
     "name": "stderr",
     "output_type": "stream",
     "text": [
      "/hkfs/home/project/haicore-project-ai-hero/ng3223/env_aihero/lib64/python3.8/site-packages/sklearn/ensemble/_forest.py:396: FutureWarning: Criterion 'mse' was deprecated in v1.0 and will be removed in version 1.2. Use `criterion='squared_error'` which is equivalent.\n",
      "  warn(\n"
     ]
    },
    {
     "data": {
      "text/plain": [
       "RandomForestRegressor(criterion='mse', max_depth=5, max_features='sqrt',\n",
       "                      n_estimators=1000, n_jobs=-1, random_state=7531)"
      ]
     },
     "execution_count": 43,
     "metadata": {},
     "output_type": "execute_result"
    }
   ],
   "source": [
    "regr.fit(X,y)"
   ]
  },
  {
   "cell_type": "code",
   "execution_count": 40,
   "id": "3b4cf197-78c2-48c7-8e81-fe750aabf3c0",
   "metadata": {},
   "outputs": [
    {
     "name": "stderr",
     "output_type": "stream",
     "text": [
      "/hkfs/home/project/haicore-project-ai-hero/ng3223/env_aihero/lib64/python3.8/site-packages/sklearn/ensemble/_forest.py:396: FutureWarning: Criterion 'mse' was deprecated in v1.0 and will be removed in version 1.2. Use `criterion='squared_error'` which is equivalent.\n",
      "  warn(\n"
     ]
    },
    {
     "name": "stdout",
     "output_type": "stream",
     "text": [
      "CPU times: user 1min 29s, sys: 306 ms, total: 1min 29s\n",
      "Wall time: 1.96 s\n"
     ]
    },
    {
     "data": {
      "text/plain": [
       "RandomForestRegressor(criterion='mse', max_depth=5, max_features='sqrt',\n",
       "                      n_estimators=1000, n_jobs=-1, random_state=7531)"
      ]
     },
     "execution_count": 40,
     "metadata": {},
     "output_type": "execute_result"
    }
   ],
   "source": [
    "%time regr.fit(X, y)"
   ]
  },
  {
   "cell_type": "code",
   "execution_count": 24,
   "id": "689ee7c2-c833-404c-bd35-5de90c286511",
   "metadata": {},
   "outputs": [
    {
     "data": {
      "text/plain": [
       "Pipeline(steps=[('standardscaler', StandardScaler()),\n",
       "                ('svr', SVR(epsilon=0.2))])"
      ]
     },
     "execution_count": 24,
     "metadata": {},
     "output_type": "execute_result"
    }
   ],
   "source": [
    "from sklearn.svm import SVR\n",
    "\n",
    "\n",
    "regr = make_pipeline(StandardScaler(), SVR(C=1.0, epsilon=0.2, kernel=\"rbf\"))\n",
    "regr.fit(X, y)"
   ]
  },
  {
   "cell_type": "code",
   "execution_count": 44,
   "id": "65b97147-e8df-4d53-9002-865ea1601d5e",
   "metadata": {},
   "outputs": [
    {
     "data": {
      "text/plain": [
       "0.9765863513754692"
      ]
     },
     "execution_count": 44,
     "metadata": {},
     "output_type": "execute_result"
    }
   ],
   "source": [
    "regr.score(X,y)"
   ]
  },
  {
   "cell_type": "code",
   "execution_count": 72,
   "id": "d3246859-e285-4cbb-8b65-c3c102df9149",
   "metadata": {},
   "outputs": [
    {
     "name": "stderr",
     "output_type": "stream",
     "text": [
      "/software/all/jupyter/base/2022-01-11/lib/python3.8/site-packages/pandas/core/indexing.py:1667: SettingWithCopyWarning: \n",
      "A value is trying to be set on a copy of a slice from a DataFrame.\n",
      "Try using .loc[row_indexer,col_indexer] = value instead\n",
      "\n",
      "See the caveats in the documentation: https://pandas.pydata.org/pandas-docs/stable/user_guide/indexing.html#returning-a-view-versus-a-copy\n",
      "  self.obj[key] = value\n",
      "/software/all/jupyter/base/2022-01-11/lib/python3.8/site-packages/pandas/util/_decorators.py:311: SettingWithCopyWarning: \n",
      "A value is trying to be set on a copy of a slice from a DataFrame\n",
      "\n",
      "See the caveats in the documentation: https://pandas.pydata.org/pandas-docs/stable/user_guide/indexing.html#returning-a-view-versus-a-copy\n",
      "  return func(*args, **kwargs)\n"
     ]
    },
    {
     "data": {
      "text/html": [
       "<div>\n",
       "<style scoped>\n",
       "    .dataframe tbody tr th:only-of-type {\n",
       "        vertical-align: middle;\n",
       "    }\n",
       "\n",
       "    .dataframe tbody tr th {\n",
       "        vertical-align: top;\n",
       "    }\n",
       "\n",
       "    .dataframe thead th {\n",
       "        text-align: right;\n",
       "    }\n",
       "</style>\n",
       "<table border=\"1\" class=\"dataframe\">\n",
       "  <thead>\n",
       "    <tr style=\"text-align: right;\">\n",
       "      <th></th>\n",
       "      <th>load</th>\n",
       "      <th>time</th>\n",
       "      <th>city</th>\n",
       "      <th>hour</th>\n",
       "      <th>day_name</th>\n",
       "      <th>weekday</th>\n",
       "      <th>day</th>\n",
       "      <th>month</th>\n",
       "      <th>year</th>\n",
       "      <th>dayofyear</th>\n",
       "      <th>...</th>\n",
       "      <th>dayofyear_sin</th>\n",
       "      <th>dayofyear_cos</th>\n",
       "      <th>latitute</th>\n",
       "      <th>longitude</th>\n",
       "      <th>elevation</th>\n",
       "      <th>is_day</th>\n",
       "      <th>is_dusk</th>\n",
       "      <th>is_dawn</th>\n",
       "      <th>sun_position</th>\n",
       "      <th>y</th>\n",
       "    </tr>\n",
       "  </thead>\n",
       "  <tbody>\n",
       "    <tr>\n",
       "      <th>0</th>\n",
       "      <td>263.365956</td>\n",
       "      <td>2015-01-01 00:00:00</td>\n",
       "      <td>bs</td>\n",
       "      <td>0</td>\n",
       "      <td>Thursday</td>\n",
       "      <td>3</td>\n",
       "      <td>1</td>\n",
       "      <td>1</td>\n",
       "      <td>2015</td>\n",
       "      <td>1</td>\n",
       "      <td>...</td>\n",
       "      <td>0.017213</td>\n",
       "      <td>0.999852</td>\n",
       "      <td>52.266667</td>\n",
       "      <td>10.516667</td>\n",
       "      <td>76.70401</td>\n",
       "      <td>0</td>\n",
       "      <td>0</td>\n",
       "      <td>0</td>\n",
       "      <td>-59.840175</td>\n",
       "      <td>259.073621</td>\n",
       "    </tr>\n",
       "    <tr>\n",
       "      <th>1</th>\n",
       "      <td>259.073621</td>\n",
       "      <td>2015-01-01 01:00:00</td>\n",
       "      <td>bs</td>\n",
       "      <td>1</td>\n",
       "      <td>Thursday</td>\n",
       "      <td>3</td>\n",
       "      <td>1</td>\n",
       "      <td>1</td>\n",
       "      <td>2015</td>\n",
       "      <td>1</td>\n",
       "      <td>...</td>\n",
       "      <td>0.017213</td>\n",
       "      <td>0.999852</td>\n",
       "      <td>52.266667</td>\n",
       "      <td>10.516667</td>\n",
       "      <td>76.70401</td>\n",
       "      <td>0</td>\n",
       "      <td>0</td>\n",
       "      <td>0</td>\n",
       "      <td>-55.195090</td>\n",
       "      <td>246.612481</td>\n",
       "    </tr>\n",
       "    <tr>\n",
       "      <th>2</th>\n",
       "      <td>246.612481</td>\n",
       "      <td>2015-01-01 02:00:00</td>\n",
       "      <td>bs</td>\n",
       "      <td>2</td>\n",
       "      <td>Thursday</td>\n",
       "      <td>3</td>\n",
       "      <td>1</td>\n",
       "      <td>1</td>\n",
       "      <td>2015</td>\n",
       "      <td>1</td>\n",
       "      <td>...</td>\n",
       "      <td>0.017213</td>\n",
       "      <td>0.999852</td>\n",
       "      <td>52.266667</td>\n",
       "      <td>10.516667</td>\n",
       "      <td>76.70401</td>\n",
       "      <td>0</td>\n",
       "      <td>0</td>\n",
       "      <td>0</td>\n",
       "      <td>-47.964556</td>\n",
       "      <td>238.313719</td>\n",
       "    </tr>\n",
       "    <tr>\n",
       "      <th>3</th>\n",
       "      <td>238.313719</td>\n",
       "      <td>2015-01-01 03:00:00</td>\n",
       "      <td>bs</td>\n",
       "      <td>3</td>\n",
       "      <td>Thursday</td>\n",
       "      <td>3</td>\n",
       "      <td>1</td>\n",
       "      <td>1</td>\n",
       "      <td>2015</td>\n",
       "      <td>1</td>\n",
       "      <td>...</td>\n",
       "      <td>0.017213</td>\n",
       "      <td>0.999852</td>\n",
       "      <td>52.266667</td>\n",
       "      <td>10.516667</td>\n",
       "      <td>76.70401</td>\n",
       "      <td>0</td>\n",
       "      <td>0</td>\n",
       "      <td>0</td>\n",
       "      <td>-39.408925</td>\n",
       "      <td>237.114390</td>\n",
       "    </tr>\n",
       "    <tr>\n",
       "      <th>4</th>\n",
       "      <td>237.114390</td>\n",
       "      <td>2015-01-01 04:00:00</td>\n",
       "      <td>bs</td>\n",
       "      <td>4</td>\n",
       "      <td>Thursday</td>\n",
       "      <td>3</td>\n",
       "      <td>1</td>\n",
       "      <td>1</td>\n",
       "      <td>2015</td>\n",
       "      <td>1</td>\n",
       "      <td>...</td>\n",
       "      <td>0.017213</td>\n",
       "      <td>0.999852</td>\n",
       "      <td>52.266667</td>\n",
       "      <td>10.516667</td>\n",
       "      <td>76.70401</td>\n",
       "      <td>0</td>\n",
       "      <td>0</td>\n",
       "      <td>0</td>\n",
       "      <td>-30.318257</td>\n",
       "      <td>237.344602</td>\n",
       "    </tr>\n",
       "  </tbody>\n",
       "</table>\n",
       "<p>5 rows × 26 columns</p>\n",
       "</div>"
      ],
      "text/plain": [
       "         load                 time city  hour  day_name  weekday  day  month  \\\n",
       "0  263.365956  2015-01-01 00:00:00   bs     0  Thursday        3    1      1   \n",
       "1  259.073621  2015-01-01 01:00:00   bs     1  Thursday        3    1      1   \n",
       "2  246.612481  2015-01-01 02:00:00   bs     2  Thursday        3    1      1   \n",
       "3  238.313719  2015-01-01 03:00:00   bs     3  Thursday        3    1      1   \n",
       "4  237.114390  2015-01-01 04:00:00   bs     4  Thursday        3    1      1   \n",
       "\n",
       "   year  dayofyear  ...  dayofyear_sin  dayofyear_cos   latitute  longitude  \\\n",
       "0  2015          1  ...       0.017213       0.999852  52.266667  10.516667   \n",
       "1  2015          1  ...       0.017213       0.999852  52.266667  10.516667   \n",
       "2  2015          1  ...       0.017213       0.999852  52.266667  10.516667   \n",
       "3  2015          1  ...       0.017213       0.999852  52.266667  10.516667   \n",
       "4  2015          1  ...       0.017213       0.999852  52.266667  10.516667   \n",
       "\n",
       "   elevation  is_day  is_dusk  is_dawn  sun_position           y  \n",
       "0   76.70401       0        0        0    -59.840175  259.073621  \n",
       "1   76.70401       0        0        0    -55.195090  246.612481  \n",
       "2   76.70401       0        0        0    -47.964556  238.313719  \n",
       "3   76.70401       0        0        0    -39.408925  237.114390  \n",
       "4   76.70401       0        0        0    -30.318257  237.344602  \n",
       "\n",
       "[5 rows x 26 columns]"
      ]
     },
     "execution_count": 72,
     "metadata": {},
     "output_type": "execute_result"
    }
   ],
   "source": [
    "df_val = pd.read_csv(DATA_DIR_DANIEL+VAL)\n",
    "\n",
    "df_tmp_list_val = []\n",
    "for city in CITIES:\n",
    "    df_tmp = df.loc[df.city == city,:]\n",
    "    df_tmp.loc[:,\"y\"] = df_tmp.loc[:,\"load\"].shift(-1)\n",
    "    df_tmp.dropna(inplace=True)\n",
    "    df_tmp_list.append(df_tmp)\n",
    "df_val = pd.concat(df_tmp_list)\n",
    "df_val.head()"
   ]
  },
  {
   "cell_type": "markdown",
   "id": "efa81ac8-f9c1-444a-ad3f-ebc95f6706d5",
   "metadata": {},
   "source": [
    "df_val = pd.get_dummies(df_val, columns=[\"city\"])"
   ]
  },
  {
   "cell_type": "code",
   "execution_count": 73,
   "id": "3db72a33-1ee8-4db4-bcf6-28eb27b465a0",
   "metadata": {},
   "outputs": [],
   "source": [
    "def mae(y_pred, y_true):\n",
    "    return np.mean(np.abs(y_pred - y_true))"
   ]
  },
  {
   "cell_type": "code",
   "execution_count": 75,
   "id": "36ad96ec-18a3-4271-b07e-9e6c64718366",
   "metadata": {},
   "outputs": [],
   "source": [
    "val_scores = []\n",
    "for city in CITIES:\n",
    "    df_tmp = df_val.loc[df_val.city == city,:]\n",
    "    pred = regressors[city].predict(df_tmp[FEATURES])\n",
    "    score = mae(pred, df_tmp[\"y\"])\n",
    "    val_scores.append(score)"
   ]
  },
  {
   "cell_type": "code",
   "execution_count": 76,
   "id": "9c209864-7231-409f-b548-d3e4cb53288c",
   "metadata": {},
   "outputs": [
    {
     "data": {
      "text/plain": [
       "[0.8235501245564918,\n",
       " 2.510048163112978,\n",
       " 0.5679978393766416,\n",
       " 1.0438099922160105,\n",
       " 0.5241396178241883,\n",
       " 0.283796031454187,\n",
       " 0.41767956393804184,\n",
       " 0.26442611257834925,\n",
       " 0.2137775272122954,\n",
       " 0.4050763720655824,\n",
       " 1.2526940534032127,\n",
       " 0.21083522427403323,\n",
       " 1.1881662764651946,\n",
       " 1.2591337215405491]"
      ]
     },
     "execution_count": 76,
     "metadata": {},
     "output_type": "execute_result"
    }
   ],
   "source": [
    "val_scores"
   ]
  },
  {
   "cell_type": "code",
   "execution_count": 46,
   "id": "81edd126-d379-4a92-8628-fdbb77321006",
   "metadata": {},
   "outputs": [
    {
     "data": {
      "text/plain": [
       "0.7760010209452057"
      ]
     },
     "execution_count": 46,
     "metadata": {},
     "output_type": "execute_result"
    }
   ],
   "source": [
    "regr.score(df_val[FEATURES], df_val[\"y\"])"
   ]
  },
  {
   "cell_type": "code",
   "execution_count": 47,
   "id": "a9cab8ba-83bf-4db3-9f74-c74056f548d6",
   "metadata": {},
   "outputs": [],
   "source": [
    "predictions = regr.predict(df_val[FEATURES])"
   ]
  },
  {
   "cell_type": "code",
   "execution_count": 57,
   "id": "c083d4b6-0a4e-4872-86a0-3900c2980e7a",
   "metadata": {},
   "outputs": [
    {
     "data": {
      "text/plain": [
       "array([205.24076547, 204.50077992])"
      ]
     },
     "execution_count": 57,
     "metadata": {},
     "output_type": "execute_result"
    }
   ],
   "source": [
    "regr.predict(df_val.iloc[-2:][FEATURES])"
   ]
  },
  {
   "cell_type": "code",
   "execution_count": 58,
   "id": "17683e82-b080-4154-84bc-1e466ec0d246",
   "metadata": {},
   "outputs": [
    {
     "data": {
      "text/plain": [
       "array([217.46860907, 217.60309997, 217.19935163, ..., 206.6413334 ,\n",
       "       205.24076547, 204.50077992])"
      ]
     },
     "execution_count": 58,
     "metadata": {},
     "output_type": "execute_result"
    }
   ],
   "source": [
    "predictions"
   ]
  },
  {
   "cell_type": "code",
   "execution_count": 59,
   "id": "872aeeab-5e93-476a-99ad-981771c8b7b1",
   "metadata": {},
   "outputs": [
    {
     "data": {
      "text/plain": [
       "0         259.073621\n",
       "1         246.612481\n",
       "2         238.313719\n",
       "3         237.114390\n",
       "4         237.344602\n",
       "             ...    \n",
       "368250    322.822588\n",
       "368251    312.235274\n",
       "368252    317.510833\n",
       "368253    325.311059\n",
       "368254    309.321500\n",
       "Name: y, Length: 368242, dtype: float64"
      ]
     },
     "execution_count": 59,
     "metadata": {},
     "output_type": "execute_result"
    }
   ],
   "source": [
    "df_val[\"y\"]"
   ]
  },
  {
   "cell_type": "code",
   "execution_count": 48,
   "id": "f2e1a823-7285-45d8-b0fd-f2e0cf685186",
   "metadata": {},
   "outputs": [
    {
     "data": {
      "text/plain": [
       "61.16074988091494"
      ]
     },
     "execution_count": 48,
     "metadata": {},
     "output_type": "execute_result"
    }
   ],
   "source": [
    "np.mean(np.abs(predictions - df_val[\"y\"].values))"
   ]
  },
  {
   "cell_type": "code",
   "execution_count": 10,
   "id": "b033c0ba-4264-4379-a125-39e1894475a2",
   "metadata": {},
   "outputs": [],
   "source": [
    "df_cities = df.pivot_table(values='load', index=df.time, aggfunc='first', columns='city')"
   ]
  },
  {
   "cell_type": "code",
   "execution_count": 98,
   "id": "66bb6201-aa46-4386-8dd4-6ab593ae2a86",
   "metadata": {},
   "outputs": [
    {
     "data": {
      "text/plain": [
       "time\n",
       "2015-01-01 00:00:00    244.871041\n",
       "2015-01-01 01:00:00    240.147987\n",
       "2015-01-01 02:00:00    228.544572\n",
       "2015-01-01 03:00:00    224.794348\n",
       "2015-01-01 04:00:00    233.304757\n",
       "                          ...    \n",
       "2017-12-31 19:00:00      0.000000\n",
       "2017-12-31 20:00:00      0.000000\n",
       "2017-12-31 21:00:00      0.000000\n",
       "2017-12-31 22:00:00      0.000000\n",
       "2017-12-31 23:00:00      0.000000\n",
       "Name: bs, Length: 26304, dtype: float64"
      ]
     },
     "execution_count": 98,
     "metadata": {},
     "output_type": "execute_result"
    }
   ],
   "source": [
    "df_cities[\"bs\"].shift(-24*7).fillna(0)"
   ]
  },
  {
   "cell_type": "code",
   "execution_count": 120,
   "id": "d29259f7-8441-4867-be5a-fae348dff7d3",
   "metadata": {},
   "outputs": [],
   "source": [
    "for city in df.city.unique():\n",
    "    df_cities[city+\"_y\"] = df_cities[city].shift(24*7)"
   ]
  },
  {
   "cell_type": "code",
   "execution_count": 121,
   "id": "c9477df3-ddfc-4e7a-b7e9-5d29753f695c",
   "metadata": {},
   "outputs": [],
   "source": [
    "df_cities.dropna(inplace=True)"
   ]
  },
  {
   "cell_type": "code",
   "execution_count": 122,
   "id": "1baddb51-73d6-4e26-92b3-a6cac4bdd7ce",
   "metadata": {},
   "outputs": [
    {
     "data": {
      "text/plain": [
       "168"
      ]
     },
     "execution_count": 122,
     "metadata": {},
     "output_type": "execute_result"
    }
   ],
   "source": [
    "24*7"
   ]
  },
  {
   "cell_type": "code",
   "execution_count": 123,
   "id": "0f6b255b-08de-47cf-b5e4-a53d1bc5f29b",
   "metadata": {},
   "outputs": [
    {
     "data": {
      "text/html": [
       "<div>\n",
       "<style scoped>\n",
       "    .dataframe tbody tr th:only-of-type {\n",
       "        vertical-align: middle;\n",
       "    }\n",
       "\n",
       "    .dataframe tbody tr th {\n",
       "        vertical-align: top;\n",
       "    }\n",
       "\n",
       "    .dataframe thead th {\n",
       "        text-align: right;\n",
       "    }\n",
       "</style>\n",
       "<table border=\"1\" class=\"dataframe\">\n",
       "  <thead>\n",
       "    <tr style=\"text-align: right;\">\n",
       "      <th>city</th>\n",
       "      <th>bs</th>\n",
       "      <th>bs_y</th>\n",
       "    </tr>\n",
       "    <tr>\n",
       "      <th>time</th>\n",
       "      <th></th>\n",
       "      <th></th>\n",
       "    </tr>\n",
       "  </thead>\n",
       "  <tbody>\n",
       "    <tr>\n",
       "      <th>2015-01-08 00:00:00</th>\n",
       "      <td>244.871041</td>\n",
       "      <td>263.365956</td>\n",
       "    </tr>\n",
       "    <tr>\n",
       "      <th>2015-01-08 01:00:00</th>\n",
       "      <td>240.147987</td>\n",
       "      <td>259.073621</td>\n",
       "    </tr>\n",
       "    <tr>\n",
       "      <th>2015-01-08 02:00:00</th>\n",
       "      <td>228.544572</td>\n",
       "      <td>246.612481</td>\n",
       "    </tr>\n",
       "    <tr>\n",
       "      <th>2015-01-08 03:00:00</th>\n",
       "      <td>224.794348</td>\n",
       "      <td>238.313719</td>\n",
       "    </tr>\n",
       "    <tr>\n",
       "      <th>2015-01-08 04:00:00</th>\n",
       "      <td>233.304757</td>\n",
       "      <td>237.114390</td>\n",
       "    </tr>\n",
       "    <tr>\n",
       "      <th>...</th>\n",
       "      <td>...</td>\n",
       "      <td>...</td>\n",
       "    </tr>\n",
       "    <tr>\n",
       "      <th>2015-01-14 19:00:00</th>\n",
       "      <td>261.145526</td>\n",
       "      <td>280.034029</td>\n",
       "    </tr>\n",
       "    <tr>\n",
       "      <th>2015-01-14 20:00:00</th>\n",
       "      <td>245.283194</td>\n",
       "      <td>265.434149</td>\n",
       "    </tr>\n",
       "    <tr>\n",
       "      <th>2015-01-14 21:00:00</th>\n",
       "      <td>244.095004</td>\n",
       "      <td>263.380808</td>\n",
       "    </tr>\n",
       "    <tr>\n",
       "      <th>2015-01-14 22:00:00</th>\n",
       "      <td>247.117462</td>\n",
       "      <td>264.747226</td>\n",
       "    </tr>\n",
       "    <tr>\n",
       "      <th>2015-01-14 23:00:00</th>\n",
       "      <td>236.735655</td>\n",
       "      <td>253.871578</td>\n",
       "    </tr>\n",
       "  </tbody>\n",
       "</table>\n",
       "<p>168 rows × 2 columns</p>\n",
       "</div>"
      ],
      "text/plain": [
       "city                         bs        bs_y\n",
       "time                                       \n",
       "2015-01-08 00:00:00  244.871041  263.365956\n",
       "2015-01-08 01:00:00  240.147987  259.073621\n",
       "2015-01-08 02:00:00  228.544572  246.612481\n",
       "2015-01-08 03:00:00  224.794348  238.313719\n",
       "2015-01-08 04:00:00  233.304757  237.114390\n",
       "...                         ...         ...\n",
       "2015-01-14 19:00:00  261.145526  280.034029\n",
       "2015-01-14 20:00:00  245.283194  265.434149\n",
       "2015-01-14 21:00:00  244.095004  263.380808\n",
       "2015-01-14 22:00:00  247.117462  264.747226\n",
       "2015-01-14 23:00:00  236.735655  253.871578\n",
       "\n",
       "[168 rows x 2 columns]"
      ]
     },
     "execution_count": 123,
     "metadata": {},
     "output_type": "execute_result"
    }
   ],
   "source": [
    "df_cities[[\"bs\", \"bs_y\"]].iloc[:168]"
   ]
  },
  {
   "cell_type": "code",
   "execution_count": 124,
   "id": "a1f036c6-bbfb-479a-a6f8-b94064a88a1e",
   "metadata": {},
   "outputs": [],
   "source": [
    "def mae(y_true, y_pred):\n",
    "    \n",
    "    absolute_difference = np.abs(y_true - y_pred)\n",
    "    \n",
    "    return np.mean(absolute_difference)"
   ]
  },
  {
   "cell_type": "code",
   "execution_count": 125,
   "id": "8ea62d10-3a5d-4181-8b2e-f73ab5f00a47",
   "metadata": {},
   "outputs": [
    {
     "data": {
      "text/plain": [
       "155"
      ]
     },
     "execution_count": 125,
     "metadata": {},
     "output_type": "execute_result"
    }
   ],
   "source": [
    "df_cities.shape[0] // 168"
   ]
  },
  {
   "cell_type": "code",
   "execution_count": 126,
   "id": "2beaaf65-4131-4b12-9a73-2acb5e8e348f",
   "metadata": {},
   "outputs": [],
   "source": [
    "mae_list = []\n",
    "for i in range(df_cities.shape[0] // 168):\n",
    "    mae_week = mae(df_cities[\"bs_y\"].iloc[168*i:168*(i+1)].values, df_cities[\"bs\"].iloc[168*i:168*(i+1)].values)\n",
    "    mae_list.append(mae_week)"
   ]
  },
  {
   "cell_type": "code",
   "execution_count": 127,
   "id": "850cfb97-a2fb-4133-a409-a2f0f1549c35",
   "metadata": {
    "scrolled": true,
    "tags": []
   },
   "outputs": [
    {
     "data": {
      "text/plain": [
       "array([238.06122875, 233.59066508, 223.17172681, 220.16040859,\n",
       "       229.85900686, 252.42347152, 275.43350731, 281.54154489,\n",
       "       280.78036087, 279.62558902, 279.83723531, 279.8409484 ,\n",
       "       275.95705339, 271.41594095, 266.18419326, 265.81659708,\n",
       "       278.01781986, 288.18055473, 286.82527587, 271.94691321,\n",
       "       256.67867581, 254.75529377, 257.89285714, 247.21028929,\n",
       "       237.1143901 , 230.90981211, 221.57881002, 219.15787355,\n",
       "       229.09410975, 252.28608709, 275.82338205, 283.13817477,\n",
       "       282.36213838, 280.00432449, 280.16398747, 279.23200119,\n",
       "       273.88514763, 267.59516851, 262.24460185, 262.42654339,\n",
       "       277.3308977 , 285.95641217, 284.54543692, 270.91096033,\n",
       "       258.79513868, 260.98586341, 264.93659409, 251.75511482,\n",
       "       240.26680585, 234.06594095, 222.85982702, 217.84343871,\n",
       "       221.49712198, 229.64736057, 240.13313451, 249.94312556,\n",
       "       257.52897405, 259.0921861 , 259.45978228, 263.2954071 ,\n",
       "       256.50787355, 247.59645094, 240.98714584, 241.49955264,\n",
       "       256.95715777, 269.75990158, 271.43450641, 262.03295556,\n",
       "       252.86532956, 257.27648375, 263.71498658, 253.32946615,\n",
       "       242.84740531, 236.06729794, 224.69780793, 218.86082613,\n",
       "       220.11585148, 224.4081867 , 230.89124664, 237.64907545,\n",
       "       247.73754846, 256.10314644, 260.48088279, 265.37845213,\n",
       "       256.46702953, 245.64336415, 239.39794214, 238.45852967,\n",
       "       253.11781986, 266.54436326, 270.65475693, 261.9104235 ,\n",
       "       251.1498807 , 253.16980316, 257.15395169, 247.50733671,\n",
       "       238.46595586, 233.01884879, 222.37341187, 218.86825231,\n",
       "       229.44685356, 251.57317328, 275.00650164, 283.80281837,\n",
       "       285.89700268, 286.46510588, 286.81784969, 287.0666269 ,\n",
       "       282.65175962, 276.20954369, 269.12496272, 268.34521324,\n",
       "       281.34846406, 293.48285118, 293.41230242, 279.19115717,\n",
       "       265.22992842, 264.55043245, 268.08900984, 258.65775425,\n",
       "       249.83544587, 245.68049508, 236.66881897, 235.43607217,\n",
       "       246.6941694 , 270.08665374, 293.94327468, 301.87815389,\n",
       "       300.47831792, 296.36049806, 294.4965255 , 291.74141068,\n",
       "       286.92181628, 282.17277065, 276.51030421, 275.19958246,\n",
       "       289.65093946, 301.79275276, 301.09840441, 287.48620638,\n",
       "       273.53983   , 268.10014912, 274.42354608, 262.25202803,\n",
       "       255.10432449, 249.5124068 , 239.45735163, 236.16383835,\n",
       "       245.25720251, 265.93912914, 286.37970474, 295.45821652,\n",
       "       295.82581271, 295.15745601, 295.00150611, 294.68218014,\n",
       "       289.43929317, 283.5317626 , 276.65140173, 275.26270504,\n",
       "       285.29548166, 294.21433045, 292.09415449, 277.36431554,\n",
       "       262.74586937, 261.5502535 , 263.651864  , 249.33046525])"
      ]
     },
     "execution_count": 127,
     "metadata": {},
     "output_type": "execute_result"
    }
   ],
   "source": [
    "df_cities[\"bs\"].iloc[168*(i-1):168*i].values"
   ]
  },
  {
   "cell_type": "code",
   "execution_count": 128,
   "id": "5b591f17-e028-4269-a23d-5cf8ff574e43",
   "metadata": {
    "scrolled": true,
    "tags": []
   },
   "outputs": [
    {
     "data": {
      "text/plain": [
       "array([241.83001789, 236.21953475, 225.86743215, 221.75332538,\n",
       "       229.62508202, 251.13874143, 273.10911124, 280.55386221,\n",
       "       278.9720847 , 277.50912616, 277.39402028, 276.71081121,\n",
       "       271.47535043, 265.96512079, 260.44746496, 259.13303012,\n",
       "       270.49138085, 279.53276171, 277.21207874, 262.63818968,\n",
       "       249.41586639, 248.01603042, 250.88996421, 238.78899493,\n",
       "       228.61512079, 222.36227259, 212.29979123, 208.46787951,\n",
       "       216.32107068, 237.74190277, 258.74686848, 266.01339099,\n",
       "       265.02570832, 263.46620936, 262.85354906, 262.71616463,\n",
       "       257.5029824 , 251.05334029, 244.2880853 , 242.18276171,\n",
       "       253.22549955, 260.43261259, 257.87057859, 246.05551745,\n",
       "       234.73429764, 236.31236206, 238.751864  , 226.21646287,\n",
       "       214.37912317, 206.89352818, 195.63914405, 190.65988667,\n",
       "       193.15137191, 199.66784969, 208.56070683, 217.53525201,\n",
       "       224.99114226, 228.05444378, 229.77360573, 235.74054578,\n",
       "       231.12888458, 223.15316135, 217.3867283 , 215.79009842,\n",
       "       226.78456606, 235.40265434, 236.31978825, 227.44920966,\n",
       "       218.48209067, 222.13206084, 227.70912616, 217.91770057,\n",
       "       208.44560095, 201.92541008, 191.6661348 , 186.24130629,\n",
       "       187.45548762, 191.4099314 , 198.00438413, 204.86246645,\n",
       "       213.92241276, 220.85475693, 223.32025052, 230.10407098,\n",
       "       226.07536534, 218.83854757, 214.15633761, 214.26773039,\n",
       "       225.65949896, 232.53985983, 228.21781986, 218.97221891,\n",
       "       213.5993737 , 220.50201312, 229.74018789, 224.96515061,\n",
       "       218.59719654, 212.39261855, 199.53046525, 191.52875037,\n",
       "       191.05718759, 193.33331345, 195.54260364, 198.68016701,\n",
       "       205.8093051 , 214.45709812, 219.75568148, 223.39822547,\n",
       "       217.45356397, 206.74500447, 200.42532061, 200.90802267,\n",
       "       213.02013123, 224.3042201 , 228.36634357, 226.0493737 ,\n",
       "       219.83365643, 224.59012824, 229.3763048 , 218.73458097,\n",
       "       161.83178816, 153.64123599, 146.87262153, 144.99273572,\n",
       "       145.88706063, 150.21334413, 156.99893273, 165.03123642,\n",
       "       172.29050956, 176.71227259, 182.20994845, 181.54000043,\n",
       "       175.26363598, 168.58431256, 163.95479315, 163.01714882,\n",
       "       169.92332453, 179.38693707, 178.83987474, 175.84747561,\n",
       "       177.61402369, 181.43302799, 175.92774914, 165.72770653,\n",
       "       215.82351625, 209.97910826, 199.65299732, 195.62429168,\n",
       "       201.7100507 , 214.32713987, 227.39351327, 237.44114226,\n",
       "       245.80302714, 251.93334327, 255.79495974, 260.46974351,\n",
       "       256.24795705, 251.01992246, 245.86614972, 245.75104384,\n",
       "       258.00796302, 269.29576499, 269.45542797, 257.83344766,\n",
       "       246.92438115, 250.1287802 , 253.90128243, 244.21382344])"
      ]
     },
     "execution_count": 128,
     "metadata": {},
     "output_type": "execute_result"
    }
   ],
   "source": [
    "df_cities[\"bs\"].iloc[168*i:168*(i+1)].values"
   ]
  },
  {
   "cell_type": "code",
   "execution_count": 151,
   "id": "6c5223e9-d4e9-4800-960a-44d73514ae3e",
   "metadata": {
    "scrolled": true,
    "tags": []
   },
   "outputs": [
    {
     "data": {
      "text/plain": [
       "array([239.94562332, 234.90509991, 224.51957948, 220.95686698,\n",
       "       229.74204444, 251.78110647, 274.27130928, 281.04770355,\n",
       "       279.87622279, 278.56735759, 278.6156278 , 278.27587981,\n",
       "       273.71620191, 268.69053087, 263.31582911, 262.4748136 ,\n",
       "       274.25460036, 283.85665822, 282.0186773 , 267.29255145,\n",
       "       253.0472711 , 251.38566209, 254.39141068, 242.99964211,\n",
       "       232.86475544, 226.63604235, 216.93930063, 213.81287653,\n",
       "       222.70759022, 245.01399493, 267.28512526, 274.57578288,\n",
       "       273.69392335, 271.73526693, 271.50876827, 270.97408291,\n",
       "       265.69406502, 259.3242544 , 253.26634357, 252.30465255,\n",
       "       265.27819863, 273.19451238, 271.20800775, 258.48323889,\n",
       "       246.76471816, 248.64911273, 251.84422905, 238.98578885,\n",
       "       227.32296451, 220.47973457, 209.24948554, 204.25166269,\n",
       "       207.32424694, 214.65760513, 224.34692067, 233.73918879,\n",
       "       241.26005816, 243.57331494, 244.61669401, 249.51797644,\n",
       "       243.81837906, 235.37480614, 229.18693707, 228.64482553,\n",
       "       241.87086191, 252.58127796, 253.87714733, 244.74108261,\n",
       "       235.67371011, 239.70427229, 245.71205637, 235.62358336,\n",
       "       225.64650313, 218.99635401, 208.18197137, 202.55106621,\n",
       "       203.78566955, 207.90905905, 214.44781539, 221.25577095,\n",
       "       230.82998061, 238.47895169, 241.90056666, 247.74126156,\n",
       "       241.27119744, 232.24095586, 226.77713987, 226.36313003,\n",
       "       239.38865941, 249.54211154, 249.4362884 , 240.4413212 ,\n",
       "       232.3746272 , 236.83590814, 243.44706979, 236.23624366,\n",
       "       228.5315762 , 222.70573367, 210.95193856, 205.19850134,\n",
       "       210.25202058, 222.45324336, 235.27455264, 241.24149269,\n",
       "       245.85315389, 250.461102  , 253.28676558, 255.23242619,\n",
       "       250.0526618 , 241.47727408, 234.77514166, 234.62661795,\n",
       "       247.18429764, 258.89353564, 260.88932299, 252.62026543,\n",
       "       242.53179242, 244.57028035, 248.73265732, 238.69616761,\n",
       "       205.83361702, 199.66086554, 191.77072025, 190.21440395,\n",
       "       196.29061501, 210.14999893, 225.4711037 , 233.45469516,\n",
       "       236.38441374, 236.53638533, 238.35323697, 236.64070555,\n",
       "       231.09272613, 225.3785416 , 220.23254868, 219.10836564,\n",
       "       229.78713199, 240.58984492, 239.96913958, 231.666841  ,\n",
       "       225.57692685, 224.76658856, 225.17564761, 213.98986728,\n",
       "       235.46392037, 229.74575753, 219.55517447, 215.89406502,\n",
       "       223.4836266 , 240.13313451, 256.88660901, 266.44967939,\n",
       "       270.81441992, 273.54539964, 275.39823293, 277.57596183,\n",
       "       272.84362511, 267.27584253, 261.25877572, 260.50687444,\n",
       "       271.65172234, 281.75504772, 280.77479123, 267.5988816 ,\n",
       "       254.83512526, 255.83951685, 258.77657322, 246.77214435])"
      ]
     },
     "execution_count": 151,
     "metadata": {},
     "output_type": "execute_result"
    }
   ],
   "source": [
    "np.average([df_cities[\"bs\"].iloc[168*(i-1):168*i].values, df_cities[\"bs\"].iloc[168*i:168*(i+1)].values], axis=0, weights=[.5,.5])"
   ]
  },
  {
   "cell_type": "code",
   "execution_count": 130,
   "id": "a43c58a1-ca2d-4fe6-9c56-37188e3d7709",
   "metadata": {},
   "outputs": [
    {
     "data": {
      "text/plain": [
       "array([380.75419821, 364.95466806, 354.83790133, 355.72470199,\n",
       "       370.54694162, 408.19977378, 445.17393196, 460.80153137,\n",
       "       465.2807796 , 467.85974071, 473.71443487, 461.75167493,\n",
       "       465.75132689, 464.19490124, 462.32176107, 464.32158705,\n",
       "       484.30174889, 482.33811885, 459.34464457, 437.09318716,\n",
       "       419.20334116, 425.80005221, 420.18063169, 396.11937701,\n",
       "       376.18446011, 363.43443835, 357.25398068, 352.92856521,\n",
       "       369.41581832, 406.20899678, 438.21526146, 459.04602802,\n",
       "       460.58435569, 461.73357696, 467.38919342, 456.35847907,\n",
       "       452.6302967 , 444.45906204, 440.46845906, 447.0018272 ,\n",
       "       462.43034891, 459.7880449 , 439.15635604, 413.58392065,\n",
       "       394.81632298, 402.05551205, 401.91977726, 379.98503437,\n",
       "       356.03236753, 337.46384756, 328.85826155, 317.48368572,\n",
       "       321.98103193, 329.32880884, 343.49047246, 368.33898895,\n",
       "       386.73557818, 401.21395632, 406.57095623, 408.74271296,\n",
       "       400.6348212 , 393.15130949, 393.52231793, 394.0743061 ,\n",
       "       415.55659967, 423.27538502, 407.17723832, 391.26912033,\n",
       "       376.54641956, 379.95788741, 382.05725224, 363.23536065,\n",
       "       349.20943183, 333.58183242, 325.13912816, 323.69129035,\n",
       "       320.98564344, 324.12564169, 324.90385452, 340.36857217,\n",
       "       360.58400766, 374.6008875 , 386.56364744, 394.38197163,\n",
       "       385.82163056, 374.43800574, 368.72809536, 372.32054294,\n",
       "       401.65735665, 414.58835813, 409.54807274, 396.26416079,\n",
       "       378.62768642, 382.47350561, 382.36491778, 362.83720526,\n",
       "       345.68032716, 331.75393718, 323.80892717, 326.74079875,\n",
       "       343.60810928, 390.95240581, 431.72713826, 449.37266162,\n",
       "       450.27756025, 451.72539807, 457.20908379, 453.78856695,\n",
       "       456.51231184, 451.61681023, 448.99260419, 450.78430349,\n",
       "       471.79604977, 472.87287914, 454.12337945, 428.51474811,\n",
       "       406.48951536, 408.79700687, 402.94231271, 379.4330462 ,\n",
       "       357.52545027, 345.19168189, 333.63612634, 334.68580875,\n",
       "       355.41703646, 397.15096145, 432.30627338, 442.90263639,\n",
       "       445.95214478, 452.13260245, 464.23109719, 459.35369355,\n",
       "       460.50291482, 454.07813452, 447.2642478 , 445.52684243,\n",
       "       464.07726442, 471.83224571, 450.48568694, 426.76829374,\n",
       "       405.10502045, 410.71539198, 408.9779866 , 382.39206474,\n",
       "       364.0678674 , 348.51265988, 343.9972157 , 343.41808057,\n",
       "       362.73766641, 402.03741408, 436.07970069, 458.35830506,\n",
       "       465.36222048, 465.00026103, 471.96798051, 458.88314626,\n",
       "       456.6751936 , 452.31358218, 449.81606195, 446.96563125,\n",
       "       468.40267989, 478.90855303, 461.38066649, 437.31036283,\n",
       "       415.04080745, 419.66483947, 416.10858784, 388.83494301])"
      ]
     },
     "execution_count": 130,
     "metadata": {},
     "output_type": "execute_result"
    }
   ],
   "source": [
    "df_cities[city].iloc[168*0:168*(0+1)].values"
   ]
  },
  {
   "cell_type": "code",
   "execution_count": 131,
   "id": "19cd6149-15c3-4d12-aa05-a8e8ecf71497",
   "metadata": {},
   "outputs": [
    {
     "data": {
      "text/plain": [
       "array([345.74367006, 331.25624293, 318.47002523, 310.09066388,\n",
       "       307.21308623, 305.07752545, 294.00156617, 296.05568607,\n",
       "       301.85608631, 314.09031584, 322.09866875, 329.10258418,\n",
       "       328.94875141, 323.60080049, 322.84973462, 326.36979031,\n",
       "       349.80666493, 358.85565127, 356.61150265, 346.5128339 ,\n",
       "       341.02914818, 358.20412425, 364.19455321, 343.4633255 ,\n",
       "       325.81780214, 310.24449665, 301.18646132, 299.58479074,\n",
       "       308.27181763, 325.75445924, 333.96188985, 353.58914122,\n",
       "       370.77316628, 382.10249717, 390.21943792, 389.83033151,\n",
       "       383.88514748, 373.5421561 , 370.12163926, 376.23875402,\n",
       "       405.81989037, 413.6834595 , 400.20951884, 380.63656139,\n",
       "       361.71513095, 375.08048377, 377.88566954, 357.63403811,\n",
       "       336.43226312, 322.17106065, 309.49343078, 308.9504916 ,\n",
       "       311.99095101, 322.92212651, 326.11641869, 347.68015314,\n",
       "       366.20342817, 387.47759506, 400.61672322, 402.78847994,\n",
       "       398.30923171, 391.47724702, 392.13782302, 400.77055599,\n",
       "       416.7963108 , 416.35291047, 401.70260158, 386.9889498 ,\n",
       "       370.3569129 , 377.35177934, 377.21604455, 359.8238928 ,\n",
       "       341.92499782, 326.12546768, 315.80057426, 310.95936657,\n",
       "       307.47550683, 312.1990777 , 317.1669712 , 327.72713826,\n",
       "       347.00147916, 361.2807796 , 377.65944488, 384.37379274,\n",
       "       376.11206822, 366.99068999, 362.00469851, 360.13155834,\n",
       "       393.54041591, 410.99591055, 410.13625685, 396.13747498,\n",
       "       381.2880884 , 385.32393631, 386.15644305, 363.38919342,\n",
       "       349.86095884, 335.25589489, 327.67284434, 330.04367876,\n",
       "       344.8568694 , 390.07465414, 433.19307405, 450.04228661,\n",
       "       456.15940137, 457.04620204, 459.7880449 , 451.28199774,\n",
       "       450.00609066, 447.35473767, 445.88880188, 447.28234578,\n",
       "       475.11702776, 478.73662229, 462.33081006, 439.94361785,\n",
       "       415.7375794 , 423.38397285, 421.73705734, 400.6348212 ,\n",
       "       385.73114069, 372.11241625, 363.91403463, 364.78273732,\n",
       "       376.97172192, 418.72374489, 453.92430175, 469.3256765 ,\n",
       "       472.52901766, 469.59714609, 470.60158357, 463.97772557,\n",
       "       463.10902288, 461.87836074, 460.70199252, 465.13599582,\n",
       "       489.04341773, 490.48220656, 469.9862525 , 447.82528496,\n",
       "       423.70068737, 429.71826329, 426.51492213, 401.02392761,\n",
       "       380.47367963, 368.36613591, 362.66527451, 362.06804142,\n",
       "       375.03523884, 412.53423823, 451.39963456, 465.32602454,\n",
       "       463.26285565, 458.31306012, 462.17697729, 455.35404159,\n",
       "       454.67536762, 452.71173758, 452.53980684, 457.72487601,\n",
       "       484.59131645, 484.95327591, 462.55703472, 441.95249282,\n",
       "       419.15809623, 421.72800835, 424.75036979, 398.00156617])"
      ]
     },
     "execution_count": 131,
     "metadata": {},
     "output_type": "execute_result"
    }
   ],
   "source": [
    "df_cities[city+\"_y\"].iloc[168*0:168*(0+1)].values"
   ]
  },
  {
   "cell_type": "code",
   "execution_count": 194,
   "id": "0c9eca17-022f-44ac-b3b0-87cd16183819",
   "metadata": {},
   "outputs": [],
   "source": [
    "def get_predictions(data, mean_window=1):\n",
    "    results = {}\n",
    "    \n",
    "    if mean_window == 1:\n",
    "    \n",
    "        for city in CITIES:\n",
    "            mae_list = []\n",
    "            for i in range(df_cities.shape[0] // 168):\n",
    "                prediction = df_cities[city].iloc[168*i:168*(i+1)].values\n",
    "                true_y = df_cities[city+\"_y\"].iloc[168*i:168*(i+1)].values\n",
    "                mae_week = mae(true_y, prediction)\n",
    "                mae_list.append(mae_week)\n",
    "            results[city] = np.mean(mae_list)\n",
    "            \n",
    "    elif mean_window == 2:\n",
    "    \n",
    "        for city in CITIES:\n",
    "            mae_list = []\n",
    "            for i in range(df_cities.shape[0] // 168):\n",
    "                if i > 1:\n",
    "                    prediction = np.average([df_cities[city].iloc[168*(i-1):168*i].values, df_cities[city].iloc[168*i:168*(i+1)].values], axis=0, weights=[.15,.85])\n",
    "                else:\n",
    "                    prediction = df_cities[city].iloc[168*i:168*(i+1)].values\n",
    "                true_y = df_cities[city+\"_y\"].iloc[168*i:168*(i+1)].values\n",
    "                mae_week = mae(true_y, prediction)\n",
    "                mae_list.append(mae_week)\n",
    "            results[city] = np.mean(mae_list)\n",
    "            \n",
    "    elif mean_window == 3:\n",
    "    \n",
    "        for city in CITIES:\n",
    "            mae_list = []\n",
    "            for i in range(df_cities.shape[0] // 168):\n",
    "                if i > 2:\n",
    "                    prediction = np.average([df_cities[city].iloc[168*(i-2):168*(i-1)].values, df_cities[city].iloc[168*(i-1):168*i].values, df_cities[city].iloc[168*i:168*(i+1)].values], axis=0, weights=[.05,.15,.8])\n",
    "                elif i == 1:\n",
    "                    prediction = np.average([df_cities[city].iloc[168*(i-1):168*i].values, df_cities[city].iloc[168*i:168*(i+1)].values], axis=0, weights=[.15,.85])\n",
    "                else:\n",
    "                    prediction = df_cities[city].iloc[168*i:168*(i+1)].values\n",
    "                true_y = df_cities[city+\"_y\"].iloc[168*i:168*(i+1)].values\n",
    "                mae_week = mae(true_y, prediction)\n",
    "                mae_list.append(mae_week)\n",
    "            results[city] = np.mean(mae_list)\n",
    "        \n",
    "    return results"
   ]
  },
  {
   "cell_type": "code",
   "execution_count": 195,
   "id": "a83ac790-cb98-407f-b675-67fa49b38bba",
   "metadata": {},
   "outputs": [],
   "source": [
    "results = get_predictions(df_cities, mean_window=3)"
   ]
  },
  {
   "cell_type": "code",
   "execution_count": 196,
   "id": "170b3f0c-a3f3-46d2-84de-0b4359a99013",
   "metadata": {},
   "outputs": [
    {
     "data": {
      "text/plain": [
       "7.357463477000352"
      ]
     },
     "execution_count": 196,
     "metadata": {},
     "output_type": "execute_result"
    }
   ],
   "source": [
    "np.mean(list(results.values()))"
   ]
  },
  {
   "cell_type": "code",
   "execution_count": null,
   "id": "f8015be1-1dad-4c3a-be7e-7da3ff8985ef",
   "metadata": {},
   "outputs": [],
   "source": []
  }
 ],
 "metadata": {
  "kernelspec": {
   "display_name": "Python env_aihero",
   "language": "python",
   "name": "env_aihero"
  },
  "language_info": {
   "codemirror_mode": {
    "name": "ipython",
    "version": 3
   },
   "file_extension": ".py",
   "mimetype": "text/x-python",
   "name": "python",
   "nbconvert_exporter": "python",
   "pygments_lexer": "ipython3",
   "version": "3.8.0"
  }
 },
 "nbformat": 4,
 "nbformat_minor": 5
}
